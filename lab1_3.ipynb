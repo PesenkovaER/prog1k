{
  "nbformat": 4,
  "nbformat_minor": 0,
  "metadata": {
    "colab": {
      "provenance": [],
      "authorship_tag": "ABX9TyM36JFqfQCuE5tW3Ud8kew6",
      "include_colab_link": true
    },
    "kernelspec": {
      "name": "python3",
      "display_name": "Python 3"
    },
    "language_info": {
      "name": "python"
    }
  },
  "cells": [
    {
      "cell_type": "markdown",
      "metadata": {
        "id": "view-in-github",
        "colab_type": "text"
      },
      "source": [
        "<a href=\"https://colab.research.google.com/github/PesenkovaER/prog1k/blob/main/lab1_3.ipynb\" target=\"_parent\"><img src=\"https://colab.research.google.com/assets/colab-badge.svg\" alt=\"Open In Colab\"/></a>"
      ]
    },
    {
      "cell_type": "code",
      "execution_count": 12,
      "metadata": {
        "id": "ALknQ_NY1XEn",
        "colab": {
          "base_uri": "https://localhost:8080/"
        },
        "outputId": "ef9d532a-6f62-4a32-a800-b17ccf44379f"
      },
      "outputs": [
        {
          "output_type": "stream",
          "name": "stdout",
          "text": [
            "\n",
            "0\n"
          ]
        }
      ],
      "source": [
        "# Вариант 14\n",
        "# Выполнил: Песенкова Е.Р.\n",
        "# Группа: ЦИБ-241\n",
        "\n",
        "def str_len(s):\n",
        "  if s=='':\n",
        "    return 0\n",
        "  else:\n",
        "    return 1+str_len(s[1:])\n",
        "\n",
        "s = input()\n",
        "print(str_len(s))\n",
        "# Сложность O(n)"
      ]
    }
  ]
}