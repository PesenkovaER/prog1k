{
  "nbformat": 4,
  "nbformat_minor": 0,
  "metadata": {
    "colab": {
      "provenance": [],
      "authorship_tag": "ABX9TyPN/E2N2AItNrsGLqhTpW4/",
      "include_colab_link": true
    },
    "kernelspec": {
      "name": "python3",
      "display_name": "Python 3"
    },
    "language_info": {
      "name": "python"
    }
  },
  "cells": [
    {
      "cell_type": "markdown",
      "metadata": {
        "id": "view-in-github",
        "colab_type": "text"
      },
      "source": [
        "<a href=\"https://colab.research.google.com/github/PesenkovaER/prog1k/blob/main/lab3.ipynb\" target=\"_parent\"><img src=\"https://colab.research.google.com/assets/colab-badge.svg\" alt=\"Open In Colab\"/></a>"
      ]
    },
    {
      "cell_type": "code",
      "execution_count": 1,
      "metadata": {
        "colab": {
          "base_uri": "https://localhost:8080/"
        },
        "id": "XR2TZMV1z1Q2",
        "outputId": "cdb7d8e0-a74f-4632-c093-5517611f0deb"
      },
      "outputs": [
        {
          "output_type": "stream",
          "name": "stdout",
          "text": [
            "Введите x: -9\n",
            "Введите y: 0\n",
            "Ответ: 0.33\n"
          ]
        }
      ],
      "source": [
        "\n",
        "# Задание task_03_01_01.\n",
        "#\n",
        "# Выполнил: Песенкова Е.Р.\n",
        "# Группа: ЦИБ-241\n",
        "\n",
        "\n",
        "def sgn(x):\n",
        "    \"\"\"Вернуть результат сигнум-функции.\n",
        "\n",
        "    Параметры:\n",
        "        - x (float): аргумент x.\n",
        "\n",
        "    Результат:\n",
        "        float: значение функции.\n",
        "    \"\"\"\n",
        "    if x > 0:\n",
        "        return 1\n",
        "    elif x == 0:\n",
        "        return 0\n",
        "    else:\n",
        "        return -1\n",
        "\n",
        "x = float(input(\"Введите x: \"))\n",
        "y = float(input(\"Введите y: \"))\n",
        "\n",
        "numerator = sgn(x) + y**2\n",
        "denominator = sgn(y) - (abs(x) ** 0.5)\n",
        "\n",
        "if denominator == 0:\n",
        "    print(\"Ошибка: деление на ноль.\")\n",
        "else:\n",
        "    z = numerator / denominator\n",
        "    print(\"Ответ:\", round(z, 2))\n",
        "\n",
        "# --------------\n",
        "# Пример вывода:\n",
        "#\n",
        "# Введите x: -9\n",
        "# Введите y: 0\n",
        "# Ответ: 0.33"
      ]
    },
    {
      "cell_type": "code",
      "source": [
        "# Задание task_03_01_02.\n",
        "#\n",
        "# Выполнил: Песенкова Е.Р.\n",
        "# Группа: ЦИБ-241\n",
        "\n",
        "\n",
        "\n",
        "def avg(data):\n",
        "    \"\"\"Вернуть среднее значение 'data'.\n",
        "\n",
        "    Параметры:\n",
        "        data (list): список числовых значений.\n",
        "\n",
        "    Результат:\n",
        "        float: среднее значение элементов списка.\n",
        "    \"\"\"\n",
        "    return sum(data) / len(data)\n",
        "\n",
        "\n",
        "def cleared_data(data):\n",
        "    \"\"\"Вернуть список без значений None.\n",
        "\n",
        "    Параметры:\n",
        "        data (list): исходный список, возможно, с None.\n",
        "\n",
        "    Результат:\n",
        "        list: список без None.\n",
        "    \"\"\"\n",
        "    return [x for x in data if x is not None]\n",
        "\n",
        "\n",
        "n = int(input(\"Кол-во измерений: \"))\n",
        "\n",
        "data = []\n",
        "for i in range(n):\n",
        "    measurement = input(f\"Измерение {i+1}-е: \")\n",
        "    if measurement == '-':\n",
        "        data.append(None)\n",
        "    else:\n",
        "        data.append(int(measurement))\n",
        "\n",
        "cleaned_data = cleared_data(data)\n",
        "average_temp = avg(cleaned_data)\n",
        "\n",
        "print(f\"Средняя температура: {average_temp:.2f}\")\n",
        "\n",
        "\n",
        "# --------------\n",
        "# Пример вывода:\n",
        "#\n",
        "# Кол-во измерений: 3\n",
        "# Измерение 1-е: 10\n",
        "# Измерение 2-е: -\n",
        "# Измерение 3-е: 20\n",
        "# Средняя температура: 15.00"
      ],
      "metadata": {
        "id": "k10JjtqM3KVJ",
        "colab": {
          "base_uri": "https://localhost:8080/"
        },
        "outputId": "99eec394-7e8c-4070-9c40-09d8f21b2a94"
      },
      "execution_count": null,
      "outputs": [
        {
          "output_type": "stream",
          "name": "stdout",
          "text": [
            "Кол-во измерений: 3\n",
            "Измерение 1-е: 10\n",
            "Измерение 2-е: -\n",
            "Измерение 3-е: 20\n",
            "Средняя температура: 15.00\n"
          ]
        }
      ]
    },
    {
      "cell_type": "code",
      "source": [
        "\n",
        "# Задание task_03_01_03.\n",
        "#\n",
        "# Выполнил: Песенкова Е.Р.\n",
        "# Группа: ЦИБ-241\n",
        "\n",
        "\n",
        "\n",
        "def is_lucky(num):\n",
        "    \"\"\"Проверяет, является ли номер счастливым (количество четных цифр равно количеству нечетных).\"\"\"\n",
        "    even = 0\n",
        "    odd = 0\n",
        "    for digit in str(num):\n",
        "        if int(digit) % 2 == 0:\n",
        "            even += 1\n",
        "        else:\n",
        "            odd += 1\n",
        "    return even == odd\n",
        "\n",
        "\n",
        "def lucky_numbers(a, b):\n",
        "    \"\"\"Возвращает список счастливых номеров в диапазоне от 'a' до 'b'.\"\"\"\n",
        "    lucky_nums = []\n",
        "    for num in range(a, b + 1):\n",
        "        if is_lucky(num):\n",
        "            lucky_nums.append(num)\n",
        "    return lucky_nums\n",
        "\n",
        "\n",
        "a = int(input(\"Первый номер билета: \"))\n",
        "b = int(input(\"Последний номер билета: \"))\n",
        "\n",
        "result = lucky_numbers(a, b)\n",
        "print(' '.join(map(str, result)))\n",
        "\n",
        "# --------------\n",
        "# Пример вывода:\n",
        "#\n",
        "# Первый номер билета: 10\n",
        "# Последний номер билета: 25\n",
        "# 10 12 14 16 18 21 23 25"
      ],
      "metadata": {
        "colab": {
          "base_uri": "https://localhost:8080/"
        },
        "id": "4UWScug8284e",
        "outputId": "070407a4-0023-4495-fae5-cbc5a5f0e6c0"
      },
      "execution_count": null,
      "outputs": [
        {
          "output_type": "stream",
          "name": "stdout",
          "text": [
            "Первый номер билета: 10\n",
            "Последний номер билета: 25\n",
            "10 12 14 16 18 21 23 25\n"
          ]
        }
      ]
    },
    {
      "cell_type": "code",
      "source": [
        "# Задание task_03_01_04.\n",
        "#\n",
        "# Выполнил: Песенкова Е.Р.\n",
        "# Группа: ЦИБ-241\n",
        "\n",
        "\n",
        "def is_leap(year):\n",
        "    \"\"\"Проверяет, является ли год високосным.\"\"\"\n",
        "    if year % 4 != 0:\n",
        "        return False\n",
        "    elif year % 100 != 0:\n",
        "        return True\n",
        "    else:\n",
        "        return year % 400 == 0\n",
        "\n",
        "\n",
        "def days(month, year):\n",
        "    \"\"\"Возвращает количество дней в указанном месяце года.\"\"\"\n",
        "    if month == 2:\n",
        "        return 29 if is_leap(year) else 28\n",
        "    elif month in [4, 6, 9, 11]:\n",
        "        return 30\n",
        "    else:\n",
        "        return 31\n",
        "\n",
        "\n",
        "def previous_date(day, month, year):\n",
        "    \"\"\"Возвращает день, месяц и год предыдущего дня.\"\"\"\n",
        "    if day > 1:\n",
        "        return day - 1, month, year\n",
        "    else:\n",
        "        if month == 1:\n",
        "            return 31, 12, year - 1\n",
        "        else:\n",
        "            prev_month = month - 1\n",
        "            prev_days = days(prev_month, year)\n",
        "            return prev_days, prev_month, year\n",
        "\n",
        "\n",
        "def next_date(day, month, year):\n",
        "    \"\"\"Возвращает день, месяц и год следующего дня.\"\"\"\n",
        "    month_days = days(month, year)\n",
        "    if day < month_days:\n",
        "        return day + 1, month, year\n",
        "    else:\n",
        "        if month == 12:\n",
        "            return 1, 1, year + 1\n",
        "        else:\n",
        "            return 1, month + 1, year\n",
        "\n",
        "\n",
        "day, month, year = map(int, input(\"День, месяц, год через пробел: \").split())\n",
        "\n",
        "prev_day, prev_month, prev_year = previous_date(day, month, year)\n",
        "next_day, next_month, next_year = next_date(day, month, year)\n",
        "\n",
        "print(f\"Предыдущий день: {prev_day:02d}/{prev_month:02d}/{prev_year}\")\n",
        "print(f\"Следующий день: {next_day:02d}/{next_month:02d}/{next_year}\")\n",
        "\n",
        "# --------------\n",
        "# Пример вывода:\n",
        "#\n",
        "# День, месяц, год через пробел: 1 3 2000\n",
        "# Предыдущий день: 29/02/2000\n",
        "# Следующий день: 02/03/2000"
      ],
      "metadata": {
        "colab": {
          "base_uri": "https://localhost:8080/"
        },
        "id": "GaDT3rkwLR9t",
        "outputId": "72fffae7-0c33-442e-83f3-5ec8fd82c211"
      },
      "execution_count": null,
      "outputs": [
        {
          "output_type": "stream",
          "name": "stdout",
          "text": [
            "День, месяц, год через пробел: 1 3 2000\n",
            "Предыдущий день: 29/02/2000\n",
            "Следующий день: 02/03/2000\n"
          ]
        }
      ]
    },
    {
      "cell_type": "code",
      "source": [
        "# Задание task_03_01_05.\n",
        "#\n",
        "# Выполнил: Песенкова Е.Р.\n",
        "# Группа: ЦИБ-241\n",
        "\n",
        "def is_leap(year):\n",
        "    \"\"\"Проверяет, является ли год високосным.\"\"\"\n",
        "    if year % 4 != 0:\n",
        "        return False\n",
        "    elif year % 100 != 0:\n",
        "        return True\n",
        "    else:\n",
        "        return year % 400 == 0\n",
        "\n",
        "\n",
        "def days(month, year):\n",
        "    \"\"\"Возвращает количество дней в указанном месяце года.\"\"\"\n",
        "    if month == 2:\n",
        "        return 29 if is_leap(year) else 28\n",
        "    elif month in [4, 6, 9, 11]:\n",
        "        return 30\n",
        "    else:\n",
        "        return 31\n",
        "\n",
        "\n",
        "def another_date(day, month, year, delta=1):\n",
        "    \"\"\"Возвращает день, месяц и год, отличающийся на 'delta' дней от указанной даты.\"\"\"\n",
        "\n",
        "    def previous_date(day, month, year):\n",
        "        \"\"\"Возвращает день, месяц и год предыдущего дня.\"\"\"\n",
        "        if day > 1:\n",
        "            return day - 1, month, year\n",
        "        else:\n",
        "            if month == 1:\n",
        "                return 31, 12, year - 1\n",
        "            else:\n",
        "                prev_month = month - 1\n",
        "                prev_days = days(prev_month, year)\n",
        "                return prev_days, prev_month, year\n",
        "\n",
        "\n",
        "    def next_date(day, month, year):\n",
        "        \"\"\"Возвращает день, месяц и год следующего дня.\"\"\"\n",
        "        month_days = days(month, year)\n",
        "        if day < month_days:\n",
        "            return day + 1, month, year\n",
        "        else:\n",
        "            if month == 12:\n",
        "                return 1, 1, year + 1\n",
        "            else:\n",
        "                return 1, month + 1, year\n",
        "\n",
        "\n",
        "    current_day, current_month, current_year = day, month, year\n",
        "    if delta > 0:\n",
        "        for _ in range(delta):\n",
        "            current_day, current_month, current_year = next_date(current_day, current_month, current_year)\n",
        "    elif delta < 0:\n",
        "        for _ in range(abs(delta)):\n",
        "            current_day, current_month, current_year = previous_date(current_day, current_month, current_year)\n",
        "    return current_day, current_month, current_year\n",
        "\n",
        "\n",
        "day, month, year = map(int, input(\"День, месяц, год через пробел: \").split())\n",
        "delta = int(input(\"Сдвиг (может быть отрицательным): \"))\n",
        "\n",
        "new_day, new_month, new_year = another_date(day, month, year, delta)\n",
        "\n",
        "print(f\"Новый день: {new_day:02d}/{new_month:02d}/{new_year}\")\n",
        "\n",
        "# --------------\n",
        "# Пример вывода:\n",
        "#\n",
        "# День, месяц, год через пробел: 1 1 2000\n",
        "# Свдиг (может быть отрицательным): -2\n",
        "# Новый день: 30/12/1999\n",
        "#\n",
        "# День, месяц, год через пробел: 1 1 2000\n",
        "# Свдиг (может быть отрицательным): 2\n",
        "# Новый день: 03/01/2000"
      ],
      "metadata": {
        "colab": {
          "base_uri": "https://localhost:8080/"
        },
        "id": "k76pceJ1L5RC",
        "outputId": "c71e59ea-9de3-4282-a0c9-34d2abb2fdb5"
      },
      "execution_count": 2,
      "outputs": [
        {
          "output_type": "stream",
          "name": "stdout",
          "text": [
            "День, месяц, год через пробел: 1 1 2000\n",
            "Сдвиг (может быть отрицательным): 2\n",
            "Новый день: 03/01/2000\n"
          ]
        }
      ]
    },
    {
      "cell_type": "code",
      "source": [
        "# Задание task_03_01_06.\n",
        "#\n",
        "# Выполнил: Песенкова Е.Р.\n",
        "# Группа: ЦИБ-241\n",
        "\n",
        "def gcd(first, second):\n",
        "    \"\"\"Возвращает НОД двух целых чисел.\"\"\"\n",
        "    while second:\n",
        "        first, second = second, first % second\n",
        "    return abs(first)\n",
        "\n",
        "\n",
        "def lcm(first, second):\n",
        "    \"\"\"Возвращает НОК двух целых чисел.\"\"\"\n",
        "    return abs(first * second) // gcd(first, second) if first and second else 0\n",
        "\n",
        "\n",
        "def gcd_nums(nums):\n",
        "    \"\"\"Возвращает НОД списка чисел.\"\"\"\n",
        "    if not nums:\n",
        "        return 0\n",
        "    current_gcd = nums[0]\n",
        "    for num in nums[1:]:\n",
        "        current_gcd = gcd(current_gcd, num)\n",
        "        if current_gcd == 1:\n",
        "            break\n",
        "    return current_gcd\n",
        "\n",
        "\n",
        "def lcm_nums(nums):\n",
        "    \"\"\"Возвращает НОК списка чисел.\"\"\"\n",
        "    if not nums:\n",
        "        return 0\n",
        "    current_lcm = nums[0]\n",
        "    for num in nums[1:]:\n",
        "        current_lcm = lcm(current_lcm, num)\n",
        "    return current_lcm\n",
        "\n",
        "\n",
        "nums = list(map(int, input(\"Введите числа через пробел: \").split()))\n",
        "\n",
        "print(f\"НОД = {gcd_nums(nums)}\")\n",
        "print(f\"НОК = {lcm_nums(nums)}\")\n",
        "\n",
        "# --------------\n",
        "# Пример вывода:\n",
        "#\n",
        "# Введите числа через пробел: 8 10 14\n",
        "# НОД = 2\n",
        "# НОК = 280\n",
        "#\n",
        "# Введите числа через пробел: 6 8 24 16\n",
        "# НОД = 2\n",
        "# НОК = 48"
      ],
      "metadata": {
        "colab": {
          "base_uri": "https://localhost:8080/"
        },
        "id": "qxcTEmpJPEtO",
        "outputId": "dd427c96-25f5-4508-957f-7693a1badcbc"
      },
      "execution_count": null,
      "outputs": [
        {
          "output_type": "stream",
          "name": "stdout",
          "text": [
            "Введите числа через пробел: 8 10 14\n",
            "НОД = 2\n",
            "НОК = 280\n"
          ]
        }
      ]
    },
    {
      "cell_type": "code",
      "source": [
        "# Задание task_03_01_07.\n",
        "#\n",
        "# Выполнил: Песенкова Е.Р.\n",
        "# Группа: ЦИБ-241\n",
        "\n",
        "def has_digits(sentence):\n",
        "    \"\"\"Проверяет, содержит ли предложение хотя бы одну цифру.\"\"\"\n",
        "    return any(char.isdigit() for char in sentence)\n",
        "\n",
        "\n",
        "def sentences_with_digits_count(sentences):\n",
        "    \"\"\"Возвращает количество предложений, содержащих хотя бы одну цифру.\"\"\"\n",
        "    return sum(1 for sentence in sentences if has_digits(sentence))\n",
        "\n",
        "\n",
        "n = int(input(\"Введите количество предложений: \"))\n",
        "sentences = []\n",
        "for i in range(n):\n",
        "    sentence = input(f\"Введите предложение №{i+1}:\\n\")\n",
        "    sentences.append(sentence)\n",
        "\n",
        "count = sentences_with_digits_count(sentences)\n",
        "print(f\"Предложений с цифрой = {count}\")\n",
        "\n",
        "# --------------\n",
        "# Пример вывода:\n",
        "#\n",
        "# Введите количество предложений: 3\n",
        "# Введите предложение №1:\n",
        "# Просто текст\n",
        "# Введите предложение №2:\n",
        "# Текст с цифрой 1 (один)\n",
        "# Введите предложение №3:\n",
        "# Тут нет цифры\n",
        "# Предложений с цифрой = 1"
      ],
      "metadata": {
        "colab": {
          "base_uri": "https://localhost:8080/"
        },
        "id": "-hDJRlMdP8BF",
        "outputId": "e0a319f1-3904-4e90-d113-64f8e1e972b1"
      },
      "execution_count": null,
      "outputs": [
        {
          "output_type": "stream",
          "name": "stdout",
          "text": [
            "Введите количество предложений: 3\n",
            "Введите предложение №1:\n",
            "Просто текст\n",
            "Введите предложение №2:\n",
            "текст с цифрой 1 (один)\n",
            "Введите предложение №3:\n",
            "Тут нет цифры \n",
            "Предложений с цифрой = 1\n"
          ]
        }
      ]
    },
    {
      "cell_type": "code",
      "source": [
        "# Задание task_03_01_08.\n",
        "#\n",
        "# Выполнил: Песенкова Е.Р.\n",
        "# Группа: ЦИБ-241\n",
        "\n",
        "def print_with_border(string, char):\n",
        "    \"\"\"Обрамляет строку рамкой из заданного символа.\"\"\"\n",
        "    border = char * (len(string) + 2)\n",
        "    print(border)\n",
        "    print(f\"{char}{string}{char}\")\n",
        "    print(border)\n",
        "\n",
        "\n",
        "s = input(\"Введите строку: \")\n",
        "k = input(\"Введите символ для рамки: \")\n",
        "\n",
        "print_with_border(s, k)\n",
        "\n",
        "# --------------\n",
        "# Пример вывода:\n",
        "#\n",
        "# Введите строку: Просто текст\n",
        "# Введите символ: +\n",
        "# ++++++++++++++\n",
        "# +Просто текст+\n",
        "# ++++++++++++++"
      ],
      "metadata": {
        "colab": {
          "base_uri": "https://localhost:8080/"
        },
        "id": "SKH2Grn5Q2ZZ",
        "outputId": "e3a8b86f-e597-40ed-bae0-0d57373c74f4"
      },
      "execution_count": null,
      "outputs": [
        {
          "output_type": "stream",
          "name": "stdout",
          "text": [
            "Введите строку: Просто текст\n",
            "Введите символ для рамки: +\n",
            "++++++++++++++\n",
            "+Просто текст+\n",
            "++++++++++++++\n"
          ]
        }
      ]
    },
    {
      "cell_type": "code",
      "source": [
        "# Задание task_03_01_09.\n",
        "#\n",
        "# Выполнил: Песенкова Е.Р.\n",
        "# Группа: ЦИБ-241\n",
        "\n",
        "LETTERS_EX = {10: \"A\", 11: \"B\", 12: \"C\", 13: \"D\", 14: \"E\", 15: \"F\"}\n",
        "DIGITS_EX = {\"A\": 10, \"B\": 11, \"C\": 12, \"D\": 13, \"E\": 14, \"F\": 15}\n",
        "\n",
        "def to_base(number, base):\n",
        "    \"\"\"Преобразовать десятичное число 'number' в c.c. 'base'.\n",
        "\n",
        "    Параметры:\n",
        "        number (int): десятичное число;\n",
        "        base (int): система счисления.\n",
        "\n",
        "    Результат:\n",
        "        str: число в c.c. 'base'.\"\"\"\n",
        "    if number == 0:\n",
        "        return \"0\"\n",
        "    digits = []\n",
        "    is_negative = False\n",
        "    if number < 0:\n",
        "        is_negative = True\n",
        "        number = -number\n",
        "    while number > 0:\n",
        "        remainder = number % base\n",
        "        if remainder >= 10:\n",
        "            remainder = LETTERS_EX[remainder]\n",
        "        digits.append(str(remainder))\n",
        "        number = number // base\n",
        "    if is_negative:\n",
        "        digits.append('-')\n",
        "    return ''.join(reversed(digits)) if digits else '0'\n",
        "\n",
        "def from_base(number, base):\n",
        "    \"\"\"Преобразовать число 'number' из c.c. 'base' в 10-ю c.c.\n",
        "\n",
        "    Параметры:\n",
        "        number (str): число в c.c. 'base';\n",
        "        base (int): система счисления.\n",
        "\n",
        "    Результат:\n",
        "        int: число в 10-й c.c.\"\"\"\n",
        "    number = str(number).upper()\n",
        "    is_negative = False\n",
        "    if number.startswith('-'):\n",
        "        is_negative = True\n",
        "        number = number[1:]\n",
        "    result = 0\n",
        "    for digit in number:\n",
        "        if digit in DIGITS_EX:\n",
        "            value = DIGITS_EX[digit]\n",
        "        else:\n",
        "            value = int(digit)\n",
        "        result = result * base + value\n",
        "    return -result if is_negative else result\n",
        "\n",
        "# Примеры использования:\n",
        "print(to_base(255, 16))  # Выведет \"FF\"\n",
        "print(from_base(\"FF\", 16))  # Выведет 255\n",
        "\n",
        "# --------------\n",
        "# Пример вывода:\n",
        "#\n",
        "# Нет"
      ],
      "metadata": {
        "colab": {
          "base_uri": "https://localhost:8080/"
        },
        "id": "8DxXk5NyRdbU",
        "outputId": "5cb76497-6c2c-4050-d391-88c888dbccdf"
      },
      "execution_count": 12,
      "outputs": [
        {
          "output_type": "stream",
          "name": "stdout",
          "text": [
            "FF\n",
            "255\n"
          ]
        }
      ]
    },
    {
      "cell_type": "code",
      "source": [
        "# Задание task_03_01_10.\n",
        "#\n",
        "# Выполнил: Песенкова Е.Р.\n",
        "# Группа: ЦИБ-241\n",
        "\n",
        "def sentence_stats(sentence):\n",
        "    \"\"\"Возвращает статистику символов в предложении (регистр не учитывается).\n",
        "\n",
        "    Параметры:\n",
        "        sentence (str): анализируемое предложение\n",
        "\n",
        "    Результат:\n",
        "        dict: словарь с символами в качестве ключей и их количеством в качестве значений\n",
        "    \"\"\"\n",
        "    stats = {}\n",
        "    for char in sentence.lower():\n",
        "        stats[char] = stats.get(char, 0) + 1\n",
        "    return stats\n",
        "\n",
        "s = input(\"Введите предложение: \")\n",
        "result = sentence_stats(s)\n",
        "print(result)\n",
        "\n",
        "# --------------\n",
        "# Пример вывода:\n",
        "#\n",
        "# Введите предложение: мама МЫла РамУ\n",
        "# {'л': 1, 'р': 1, 'у': 1, 'м': 4, 'а': 4, 'ы': 1, ' ': 2}"
      ],
      "metadata": {
        "colab": {
          "base_uri": "https://localhost:8080/"
        },
        "id": "7Cmy0BOCTPY4",
        "outputId": "f4aaff77-ed1a-4432-e11e-70d4d3d284a7"
      },
      "execution_count": null,
      "outputs": [
        {
          "output_type": "stream",
          "name": "stdout",
          "text": [
            "Введите предложение: мама МЫла РамУ\n",
            "{'м': 4, 'а': 4, ' ': 2, 'ы': 1, 'л': 1, 'р': 1, 'у': 1}\n"
          ]
        }
      ]
    },
    {
      "cell_type": "code",
      "source": [
        "# Задание task_03_01_11.\n",
        "#\n",
        "# Выполнил: Песенкова Е.Р.\n",
        "# Группа: ЦИБ-241\n",
        "\n",
        "def ceasar(text, shift):\n",
        "    \"\"\"Шифрует/дешифрует текст с использованием шифра Цезаря (только русские буквы).\"\"\"\n",
        "    letters = [chr(i) for i in range(ord('а'), ord('я') + 1)]\n",
        "    upper_letters = [chr(i) for i in range(ord('А'), ord('Я') + 1)]\n",
        "    result = []\n",
        "\n",
        "    for char in text:\n",
        "        if char in letters:\n",
        "            idx = (letters.index(char) + shift) % len(letters)\n",
        "            result.append(letters[idx])\n",
        "        elif char in upper_letters:\n",
        "            idx = (upper_letters.index(char) + shift) % len(upper_letters)\n",
        "            result.append(upper_letters[idx])\n",
        "        else:\n",
        "            result.append(char)\n",
        "    return ''.join(result)\n",
        "\n",
        "\n",
        "text = input(\"Введите предложение: \")\n",
        "shift = int(input(\"Введите сдвиг: \"))\n",
        "\n",
        "encoded = ceasar(text, shift)\n",
        "decoded = ceasar(encoded, -shift)\n",
        "\n",
        "print(\"Зашифрованная строка:\", encoded)\n",
        "print(\"Расшифрованная строка:\", decoded)\n",
        "\n",
        "# --------------\n",
        "# Пример вывода:\n",
        "#\n",
        "# Введите предложение: ПрограММиРОВание С++\n",
        "# Введите сдвиг: 4\n",
        "# Зашифрованная строка: УфтзфдРРмФТЖдсмй Х++\n",
        "# Расшифрованная строка: ПрограММиРОВание С++"
      ],
      "metadata": {
        "colab": {
          "base_uri": "https://localhost:8080/"
        },
        "id": "mLkpBuEoU89e",
        "outputId": "dd903138-da41-4063-fdd6-fa98585a4c69"
      },
      "execution_count": null,
      "outputs": [
        {
          "output_type": "stream",
          "name": "stdout",
          "text": [
            "Введите предложение: ПрограММиРОВание С++\n",
            "Введите сдвиг: 4\n",
            "Зашифрованная строка: УфтзфдРРмФТЖдсмй Х++\n",
            "Расшифрованная строка: ПрограММиРОВание С++\n"
          ]
        }
      ]
    },
    {
      "cell_type": "code",
      "source": [
        "# Задание task_03_01_12.\n",
        "#\n",
        "# Выполнил: Песенкова Е.Р.\n",
        "# Группа: ЦИБ-241\n",
        "\n",
        "\n",
        "data = [\n",
        "    {1: 'м', 2: 'м', 3: 'м', 4: 'ж'},\n",
        "    {1: 'ж', 2: 'м', 3: 'ж', 4: 'ж'},\n",
        "    {1: 'ж', 2: 'ж', 3: 'ж', 4: 'ж'},\n",
        "    {1: 'м', 2: 'м', 3: 'м', 4: 'м'},\n",
        "    {1: None, 2: None, 3: None, 4: None},\n",
        "    {1: 'м', 2: None, 3: None, 4: 'ж'},\n",
        "    {1: None, 2: None, 3: None, 4: None},\n",
        "    {1: 'м', 2: 'м', 3: None, 4: 'м'},\n",
        "    {1: 'ж', 2: None, 3: None, 4: 'ж'}\n",
        "]\n",
        "def vacant_compartments(data):\n",
        "    \"\"\"Вернуть список полностью свободных купе.\"\"\"\n",
        "    return [i+1 for i, compartment in enumerate(data) if all(v is None for v in compartment.values())]\n",
        "\n",
        "def vacant_seats(data, compartments_condition=None, seat_condition=None):\n",
        "    \"\"\"Вернуть список свободных мест с учетом условий.\"\"\"\n",
        "    result = []\n",
        "    for i, compartment in enumerate(data):\n",
        "        compartment_num = i + 1\n",
        "        # Проверяем условие для купе, если оно задано\n",
        "        if compartments_condition is None or compartments_condition(compartment):\n",
        "            for seat, value in compartment.items():\n",
        "                # Место свободно и удовлетворяет условию места (если задано)\n",
        "                if value is None and (seat_condition is None or seat_condition(seat, value)):\n",
        "                    result.append((compartment_num, seat))\n",
        "    return result\n",
        "\n",
        "def is_same_sex_and_vacant(compartment, sex):\n",
        "    \"\"\"Проверяет, есть ли свободные места и все занятые места заняты людьми одного пола.\"\"\"\n",
        "    occupied = [v for v in compartment.values() if v is not None]\n",
        "    # Есть свободные места и все занятые места одного пола\n",
        "    return len(occupied) > 0 and len(occupied) < 4 and all(v == sex for v in occupied)\n",
        "\n",
        "# список полностью свободных купе\n",
        "print(vacant_compartments(data))\n",
        "# список свободных мест в вагоне\n",
        "print(vacant_seats(data))\n",
        "# список свободных нижних мест\n",
        "print(vacant_seats(data, seat_condition=lambda seat, value: seat % 2 != 0))\n",
        "# список свободных верхних мест\n",
        "print(vacant_seats(data, seat_condition=lambda seat, value: seat % 2 == 0))\n",
        "# список свободных мест в купе с исключительно мужской компанией\n",
        "print(vacant_seats(data, lambda x: is_same_sex_and_vacant(x, \"м\")))\n",
        "# список свободных мест в купе с исключительно женской компанией\n",
        "print(vacant_seats(data, lambda x: is_same_sex_and_vacant(x, \"ж\")))\n",
        "\n",
        "# --------------\n",
        "# Пример вывода:\n",
        "#\n",
        "# [5, 7]\n",
        "# [(5, 1), (5, 2), (5, 3), (5, 4), (6, 2), (6, 3), (7, 1), (7, 2), (7, 3),\n",
        "#  (7, 4), (8, 3), (9, 2), (9, 3)]\n",
        "# [(5, 1), (5, 3), (6, 3), (7, 1), (7, 3), (8, 3), (9, 3)]\n",
        "# [(5, 2), (5, 4), (6, 2), (7, 2), (7, 4), (9, 2)]\n",
        "# [(8, 3)]\n",
        "# [(9, 2), (9, 3)]"
      ],
      "metadata": {
        "colab": {
          "base_uri": "https://localhost:8080/"
        },
        "id": "3ZsGAIijd5ik",
        "outputId": "4c3f9277-d30f-42b4-a5ea-8387bdccda24"
      },
      "execution_count": null,
      "outputs": [
        {
          "output_type": "stream",
          "name": "stdout",
          "text": [
            "[5, 7]\n",
            "[(5, 1), (5, 2), (5, 3), (5, 4), (6, 2), (6, 3), (7, 1), (7, 2), (7, 3), (7, 4), (8, 3), (9, 2), (9, 3)]\n",
            "[(5, 1), (5, 3), (6, 3), (7, 1), (7, 3), (8, 3), (9, 3)]\n",
            "[(5, 2), (5, 4), (6, 2), (7, 2), (7, 4), (9, 2)]\n",
            "[(8, 3)]\n",
            "[(9, 2), (9, 3)]\n"
          ]
        }
      ]
    },
    {
      "cell_type": "code",
      "source": [
        "# Задание task_03_01_13.\n",
        "#\n",
        "# Выполнил: Песенкова Е.Р.\n",
        "# Группа: ЦИБ-241\n",
        "votes = [\n",
        "    2, 3, -1, 2, 5, 1, 1, 4, 1, 1, 1, 3, 1, 3, 5, -1, 5, 2, 5, 5,\n",
        "    3, 3, 2, 3, 3, 2, 2, 1, 3, 2, 5, 2, 2, 4, 1, 1, 3, 2, 2, 3, 3,\n",
        "    3, 1, 4, 2, 1, 4, 2, 3, 3, 3, -1, 5, 3, 1, 4, 5, 1, 1, 3, 3,\n",
        "    3, -1, 5, 3, 3, 2, 5, 1, 1, 5, -1, 1, 2, 2, 3, -1, 4, 2, 5, 4,\n",
        "    2, -1, 3, 1, 4, 3, 5, 4, 1, 5, 3, 2, 4, 2, 1, 3, 4, 1, 1, 3, 4\n",
        "]\n",
        "\n",
        "parties = {\n",
        "    1: \"Партия №1\", 2: \"Партия №2\", 3: \"Партия №3\",\n",
        "    4: \"Партия №4\", 5: \"Партия №5\", -1: \"Испорчено\"\n",
        "}\n",
        "\n",
        "def parties_votes(parties, votes):\n",
        "    \"\"\"Подсчитывает голоса за каждую партию и испорченные бланки.\"\"\"\n",
        "    results = {name: 0 for name in parties.values()}\n",
        "    for vote in votes:\n",
        "        results[parties[vote]] += 1\n",
        "    return results\n",
        "\n",
        "\n",
        "def print_results(votes_for_p):\n",
        "    \"\"\"Выводит результаты голосования в отсортированном виде с процентным соотношением.\"\"\"\n",
        "    total_valid = sum(count for name, count in votes_for_p.items() if name != \"Испорчено\")\n",
        "    total_all = sum(votes_for_p.values())\n",
        "\n",
        "    # Сортируем партии по убыванию голосов (исключая испорченные)\n",
        "    sorted_parties = sorted(\n",
        "        [(name, count) for name, count in votes_for_p.items() if name != \"Испорчено\"],\n",
        "        key=lambda x: (-x[1], x[0])\n",
        "    )\n",
        "\n",
        "    # Добавляем испорченные бланки в конец\n",
        "    if \"Испорчено\" in votes_for_p:\n",
        "        sorted_parties.append((\"Испорчено\", votes_for_p[\"Испорчено\"]))\n",
        "\n",
        "    # Выводим результаты\n",
        "    for i, (name, count) in enumerate(sorted_parties, 1):\n",
        "        if name == \"Испорчено\":\n",
        "            percentage = (count / total_all) * 100\n",
        "        else:\n",
        "            percentage = (count / total_valid) * 100 if total_valid > 0 else 0\n",
        "\n",
        "        print(f\"{i}. {name} | {count:2} | {percentage:.2f}%\")\n",
        "\n",
        "print_results(parties_votes(parties, votes))\n",
        "\n",
        "# --------------\n",
        "# Пример вывода:\n",
        "#\n",
        "# 1. Партия №3 | 27 | 26.47%\n",
        "# 2. Партия №1 | 22 | 21.57%\n",
        "# 3. Партия №2 | 20 | 19.61%\n",
        "# 4. Партия №5 | 14 | 13.73%\n",
        "# 5. Партия №4 | 12 | 11.76%\n",
        "# 6. Испорчено |  7 |  6.86%"
      ],
      "metadata": {
        "colab": {
          "base_uri": "https://localhost:8080/"
        },
        "id": "ffMFh7EcfXch",
        "outputId": "b4797920-7f3f-479d-8016-602b70850d66"
      },
      "execution_count": null,
      "outputs": [
        {
          "output_type": "stream",
          "name": "stdout",
          "text": [
            "1. Партия №3 | 27 | 28.42%\n",
            "2. Партия №1 | 22 | 23.16%\n",
            "3. Партия №2 | 20 | 21.05%\n",
            "4. Партия №5 | 14 | 14.74%\n",
            "5. Партия №4 | 12 | 12.63%\n",
            "6. Испорчено |  7 | 6.86%\n"
          ]
        }
      ]
    },
    {
      "cell_type": "code",
      "source": [
        "# Задание task_03_01_14.\n",
        "#\n",
        "# Выполнил: Песенкова Е.Р.\n",
        "# Группа: ЦИБ-241\n",
        "\n",
        "def split_numbers(*args):\n",
        "    \"\"\"Разделяет числа на отрицательные (сортировка по убыванию) и неотрицательные (сортировка по возрастанию).\n",
        "\n",
        "    Параметры:\n",
        "        *args: произвольное количество числовых аргументов\n",
        "\n",
        "    Результат:\n",
        "        tuple: кортеж из двух списков:\n",
        "            - список отрицательных чисел, отсортированных по убыванию\n",
        "            - список неотрицательных чисел, отсортированных по возрастанию\n",
        "    \"\"\"\n",
        "    negatives = sorted((x for x in args if x < 0), reverse=True)\n",
        "    non_negatives = sorted((x for x in args if x >= 0))\n",
        "    return (negatives, non_negatives)\n",
        "\n",
        "\n",
        "print(split_numbers(1, 4, -5, 0, -33))\n",
        "\n",
        "# --------------\n",
        "# Пример вывода:\n",
        "#\n",
        "# ([-5, -33], [0, 1, 4])"
      ],
      "metadata": {
        "colab": {
          "base_uri": "https://localhost:8080/"
        },
        "id": "TrLEk-HlffbX",
        "outputId": "02b28a32-0fad-48db-faeb-112e94701ca7"
      },
      "execution_count": null,
      "outputs": [
        {
          "output_type": "stream",
          "name": "stdout",
          "text": [
            "([-5, -33], [0, 1, 4])\n"
          ]
        }
      ]
    },
    {
      "cell_type": "code",
      "source": [
        "# Задание task_03_01_15.\n",
        "#\n",
        "# Выполнил: Песенкова Е.Р.\n",
        "# Группа: ЦИБ-241\n",
        "\n",
        "def gdp(c, i, g, ex, im):\n",
        "    \"\"\"Рассчитать значение ВВП по формуле Y = C + I + G + Ex - Im.\n",
        "\n",
        "    Параметры:\n",
        "        c (int): конечное потребление\n",
        "        i (int): валовое накопление капитала\n",
        "        g (int): государственные расходы\n",
        "        ex (int): экспорт\n",
        "        im (int): импорт\n",
        "\n",
        "    Результат:\n",
        "        int: значение ВВП\n",
        "    \"\"\"\n",
        "    return c + i + g + ex - im\n",
        "\n",
        "\n",
        "# Ввод данных с клавиатуры\n",
        "info_dict = {\n",
        "    'c': int(input(\"Конечное потребление: \")),\n",
        "    'i': int(input(\"Валовое накопление капитала: \")),\n",
        "    'g': int(input(\"Государственные расходы: \")),\n",
        "    'ex': int(input(\"Экспорт: \")),\n",
        "    'im': int(input(\"Импорт: \"))\n",
        "}\n",
        "\n",
        "# Создаем список из значений словаря\n",
        "info_list = list(info_dict.values())\n",
        "\n",
        "# Вычисляем ВВП разными способами\n",
        "gdp_from_dict = gdp(**info_dict)  # Распаковка словаря\n",
        "gdp_from_list = gdp(*info_list)   # Распаковка списка\n",
        "\n",
        "# Выводим результаты\n",
        "print(f\"ВВП = {gdp_from_dict}\")\n",
        "print(f\"ВВП = {gdp_from_list}\")\n",
        "\n",
        "# Удалите комментарий и допишите код\n",
        "\n",
        "# --------------\n",
        "# Пример вывода:\n",
        "#\n",
        "# Конечное потребление: 100\n",
        "# Валовое накопление капитала: 200\n",
        "# Государственные расходы: 300\n",
        "# Экспорт: 400\n",
        "# Импорт: 500\n",
        "# ВВП = 500\n",
        "# ВВП = 500"
      ],
      "metadata": {
        "colab": {
          "base_uri": "https://localhost:8080/"
        },
        "id": "PBvZBuqaff3W",
        "outputId": "f541ae8c-bffe-41b0-9d4f-ae11e97194a6"
      },
      "execution_count": null,
      "outputs": [
        {
          "output_type": "stream",
          "name": "stdout",
          "text": [
            "Конечное потребление: 100\n",
            "Валовое накопление капитала: 200\n",
            "Государственные расходы: 300\n",
            "Экспорт: 400\n",
            "Импорт: 500\n",
            "ВВП = 500\n",
            "ВВП = 500\n"
          ]
        }
      ]
    },
    {
      "cell_type": "code",
      "source": [
        "# Задание task_03_01_16.\n",
        "#\n",
        "# Выполнил: Песенкова Е.Р.\n",
        "# Группа: ЦИБ-241\n",
        "\n",
        "def pow1(value, power):\n",
        "    \"\"\"Возвести число в степень (итеративный способ).\n",
        "\n",
        "    Параметры:\n",
        "        value (int/float): основание степени\n",
        "        power (int): показатель степени\n",
        "\n",
        "    Результат:\n",
        "        int/float: результат возведения в степень\n",
        "    \"\"\"\n",
        "    result = 1\n",
        "    for _ in range(power):\n",
        "        result *= value\n",
        "    return result\n",
        "\n",
        "\n",
        "def pow2(value, power):\n",
        "    \"\"\"Возвести число в степень (рекурсивный способ).\n",
        "\n",
        "    Параметры:\n",
        "        value (int/float): основание степени\n",
        "        power (int): показатель степени\n",
        "\n",
        "    Результат:\n",
        "        int/float: результат возведения в степень\n",
        "    \"\"\"\n",
        "    if power == 0:\n",
        "        return 1\n",
        "    return value * pow2(value, power - 1)\n",
        "\n",
        "\n",
        "print(pow1(5, 3))\n",
        "print(pow2(5, 3))\n",
        "\n",
        "# --------------\n",
        "# Пример вывода:\n",
        "#\n",
        "# 125\n",
        "# 125"
      ],
      "metadata": {
        "colab": {
          "base_uri": "https://localhost:8080/"
        },
        "id": "cgiyJ1NkfgF6",
        "outputId": "1a950e74-d53c-4c35-f595-6ccdd44ee8e4"
      },
      "execution_count": null,
      "outputs": [
        {
          "output_type": "stream",
          "name": "stdout",
          "text": [
            "125\n",
            "125\n"
          ]
        }
      ]
    },
    {
      "cell_type": "code",
      "source": [
        "# Задание task_03_01_17.\n",
        "#\n",
        "# Выполнил: Песенкова Е.Р.\n",
        "# Группа: ЦИБ-241\n",
        "\n",
        "\n",
        "def digits_sum(value):\n",
        "    \"\"\"Рекурсивно вычисляет сумму цифр числа.\n",
        "\n",
        "    Параметры:\n",
        "        value (int): натуральное число\n",
        "\n",
        "    Результат:\n",
        "        int: сумма цифр числа\n",
        "    \"\"\"\n",
        "    if value < 10:\n",
        "        return value\n",
        "    return value % 10 + digits_sum(value // 10)\n",
        "\n",
        "\n",
        "def digits_count(value):\n",
        "    \"\"\"Рекурсивно вычисляет количество цифр в числе.\n",
        "\n",
        "    Параметры:\n",
        "        value (int): натуральное число\n",
        "\n",
        "    Результат:\n",
        "        int: количество цифр\n",
        "    \"\"\"\n",
        "    if value < 10:\n",
        "        return 1\n",
        "    return 1 + digits_count(value // 10)\n",
        "\n",
        "\n",
        "# Тестирование функций\n",
        "print(digits_sum(12345))\n",
        "print(digits_count(12345))\n",
        "\n",
        "# --------------\n",
        "# Пример вывода:\n",
        "#\n",
        "# 15\n",
        "# 5"
      ],
      "metadata": {
        "colab": {
          "base_uri": "https://localhost:8080/"
        },
        "id": "otKluw-pfgTA",
        "outputId": "951c6300-3c06-45bd-9333-7c3b386b180e"
      },
      "execution_count": null,
      "outputs": [
        {
          "output_type": "stream",
          "name": "stdout",
          "text": [
            "15\n",
            "5\n"
          ]
        }
      ]
    }
  ]
}