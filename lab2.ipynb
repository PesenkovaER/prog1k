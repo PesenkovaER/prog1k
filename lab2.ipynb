{
  "nbformat": 4,
  "nbformat_minor": 0,
  "metadata": {
    "colab": {
      "provenance": [],
      "authorship_tag": "ABX9TyNsLG0r+sySCrnb32zGLjP9",
      "include_colab_link": true
    },
    "kernelspec": {
      "name": "python3",
      "display_name": "Python 3"
    },
    "language_info": {
      "name": "python"
    }
  },
  "cells": [
    {
      "cell_type": "markdown",
      "metadata": {
        "id": "view-in-github",
        "colab_type": "text"
      },
      "source": [
        "<a href=\"https://colab.research.google.com/github/PesenkovaER/prog1k/blob/main/lab2.ipynb\" target=\"_parent\"><img src=\"https://colab.research.google.com/assets/colab-badge.svg\" alt=\"Open In Colab\"/></a>"
      ]
    },
    {
      "cell_type": "code",
      "execution_count": 138,
      "metadata": {
        "colab": {
          "base_uri": "https://localhost:8080/"
        },
        "id": "xnIiJFAnz8aV",
        "outputId": "42461a44-24b7-4fa1-d6a7-369d660f8079"
      },
      "outputs": [
        {
          "output_type": "stream",
          "name": "stdout",
          "text": [
            "Введите число x: -10\n",
            "f =  -0.10\n"
          ]
        }
      ],
      "source": [
        "\n",
        "# Задание task_02_01.\n",
        "#\n",
        "# Выполнил: Песенкова Е.Р.\n",
        "# Группа: ЦИБ-241\n",
        "\n",
        "\n",
        "\n",
        "x = float(input(\"Введите число x: \"))\n",
        "\n",
        "if x >= 0:\n",
        "    f =x**(1/2) + x**2\n",
        "else:\n",
        "    f = 1 / x\n",
        "\n",
        "print(\"f = \", f\"{f:.2f}\")\n",
        "\n",
        "\n",
        "# --------------\n",
        "# Пример вывода:\n",
        "#\n",
        "# Введите число x: -10\n",
        "# f = -0.10\n",
        "\n",
        "# Введите число x: 0\n",
        "# f = 0.00\n",
        "\n",
        "# Введите число x: 10\n",
        "# f = 103.16"
      ]
    },
    {
      "cell_type": "code",
      "source": [
        "\n",
        "# Задание task_02_02.\n",
        "#\n",
        "# Выполнил: Песенкова Е.Р.\n",
        "# Группа: ЦИБ-241\n",
        "# E-mail: pesenkovakatia@gmail.com\n",
        "\n",
        "\n",
        "a1 = int(input(\"Введите первое число: \"))\n",
        "a2 = int(input(\"Введите второе число: \"))\n",
        "if a1 < a2:\n",
        "  a_min = a1\n",
        "  a_max = a2\n",
        "elif a1 > a2:\n",
        "  a_min = a2\n",
        "  a_max = a1\n",
        "else:\n",
        "  a_min = a2\n",
        "  a_max = a1\n",
        "print(\"Максимум:\", a_max, \", минимум:\", a_min)\n",
        "\n",
        "\n",
        "\n",
        "# --------------\n",
        "# Пример вывода:\n",
        "#\n",
        "# Введите первое число: 1\n",
        "# Введите второе число: 2\n",
        "# Максимум: 2, минимум: 1\n",
        "\n",
        "# Введите первое число: 5\n",
        "# Введите второе число: 5\n",
        "# Максимум: 5, минимум: 5\n",
        "\n",
        "# Введите первое число: 100\n",
        "# Введите второе число: -1\n",
        "# Максимум: 100, минимум: -1"
      ],
      "metadata": {
        "colab": {
          "base_uri": "https://localhost:8080/"
        },
        "id": "LcH9t1aj5TIF",
        "outputId": "d7276088-6ad4-430c-f315-3c2a67841e12"
      },
      "execution_count": 2,
      "outputs": [
        {
          "output_type": "stream",
          "name": "stdout",
          "text": [
            "Введите первое число: 1\n",
            "Введите второе число: 2\n",
            "Максимум: 2 , минимум: 1\n"
          ]
        }
      ]
    },
    {
      "cell_type": "code",
      "source": [
        "\n",
        "# Задание task_02_03.\n",
        "#\n",
        "# Выполнил: Песенкова Е.Р.\n",
        "# Группа: ЦИБ-241\n",
        "\n",
        "\n",
        "\n",
        "a = int(input(\"Ширина форточки: \"))\n",
        "b = int(input(\"Высота форточки: \"))\n",
        "d = int(input(\"Диаметр головы: \"))\n",
        "\n",
        "if a > 0 and b > 0 and d > 0:\n",
        "    fix = 1\n",
        "    if a >=(d+fix) and b >= (d+fix):\n",
        "      print(\"Да\")\n",
        "    else:\n",
        "      print(\"Нет\")\n",
        "else:\n",
        "  print(\"Проверьте ввод\")\n",
        "\n",
        "\n",
        "# --------------\n",
        "# Пример вывода:\n",
        "#\n",
        "# Ширина форточки: 5\n",
        "# Высота форточки: 6\n",
        "# Диаметр головы: 6\n",
        "# Нет\n",
        "\n",
        "# Ширина форточки: 6\n",
        "# Высота форточки: 7\n",
        "# Диаметр головы: 4\n",
        "# Да"
      ],
      "metadata": {
        "colab": {
          "base_uri": "https://localhost:8080/"
        },
        "id": "-E_-m5XI9nmX",
        "outputId": "d1713dd6-42d9-47f5-c284-10b1f7b41e17"
      },
      "execution_count": 3,
      "outputs": [
        {
          "output_type": "stream",
          "name": "stdout",
          "text": [
            "Ширина форточки: 5\n",
            "Высота форточки: 6\n",
            "Диаметр головы: 6\n",
            "Нет\n"
          ]
        }
      ]
    },
    {
      "cell_type": "code",
      "source": [
        "\n",
        "# Задание task_02_04.\n",
        "#\n",
        "# Выполнил: Песенкова Е.Р.\n",
        "# Группа: ЦИБ-241\n",
        "\n",
        "\n",
        "year_today = int(input(\"Введите текущий год: \"))\n",
        "month_today = int(input(\"Введите текущий месяц: \"))\n",
        "\n",
        "year = int(input(\"Введите год рождения: \"))\n",
        "month = int(input(\"Введите месяц рождения: \"))\n",
        "\n",
        "age = (year_today - year)\n",
        "if month_today>=month:\n",
        "  print(\"Число полных лет: \", age)\n",
        "else:\n",
        "  age -= 1\n",
        "  print(\"Число полных лет: \", age)\n",
        "\n",
        "\n",
        "# --------------\n",
        "# Пример вывода:\n",
        "#\n",
        "# Введите текущий год: 2017\n",
        "# Введите текущий месяц: 5\n",
        "# Введите год рождения: 2000\n",
        "# Введите месяц рождения: 1\n",
        "# Число полных лет:  17\n",
        "#\n",
        "# Введите текущий год: 2015\n",
        "# Введите текущий месяц: 6\n",
        "# Введите год рождения: 2010\n",
        "# Введите месяц рождения: 8\n",
        "# Число полных лет:  4\n",
        "#\n",
        "# Введите текущий год: 2020\n",
        "# Введите текущий месяц: 5\n",
        "# Введите год рождения: 2000\n",
        "# Введите месяц рождения: 5\n",
        "# Число полных лет:  20"
      ],
      "metadata": {
        "colab": {
          "base_uri": "https://localhost:8080/"
        },
        "id": "UQAHSSAxC6Lx",
        "outputId": "d32e4670-2267-425f-b2eb-e9e1c1f8b688"
      },
      "execution_count": 4,
      "outputs": [
        {
          "output_type": "stream",
          "name": "stdout",
          "text": [
            "Введите текущий год: 2017\n",
            "Введите текущий месяц: 5\n",
            "Введите год рождения: 2000\n",
            "Введите месяц рождения: 1\n",
            "Число полных лет:  17\n"
          ]
        }
      ]
    },
    {
      "cell_type": "code",
      "source": [
        "\n",
        "# Задание task_02_05.\n",
        "#\n",
        "# Выполнил: Песенкова Е.Р.\n",
        "# Группа: ЦИБ-241\n",
        "\n",
        "\n",
        "\n",
        "x = int(input(\"Введите координату x: \"))\n",
        "y = int(input(\"Введите координату y: \"))\n",
        "\n",
        "if x>0 and y>0:\n",
        "  print(\"1-я четверть\")\n",
        "elif x<0 and y>0:\n",
        "  print(\"2-я четверть\")\n",
        "elif x<0 and y<0:\n",
        "  print(\"3-я четверть\")\n",
        "elif x>0 and y<0:\n",
        "  print(\"4-я четверть\")\n",
        "\n",
        "# Удалите комментарий и допишите код\n",
        "\n",
        "# --------------\n",
        "# Пример вывода:\n",
        "#\n",
        "# Введите координату x: 5\n",
        "# Введите координату y: 7\n",
        "# 1-я четверть"
      ],
      "metadata": {
        "id": "p-COLnHoITMo",
        "colab": {
          "base_uri": "https://localhost:8080/"
        },
        "outputId": "0d0a9205-c2f9-40ee-cf67-062d39894fb1"
      },
      "execution_count": null,
      "outputs": [
        {
          "output_type": "stream",
          "name": "stdout",
          "text": [
            "Введите координату x: 5\n",
            "Введите координату y: 7\n",
            "1-я четверть\n"
          ]
        }
      ]
    },
    {
      "cell_type": "code",
      "source": [
        "\n",
        "# Задание task_02_06.\n",
        "#\n",
        "# Выполнил: Песенкова Е.Р.\n",
        "# Группа: ЦИБ-241\n",
        "\n",
        "\n",
        "\n",
        "a = float(input(\"a = \"))\n",
        "b = float(input(\"b = \"))\n",
        "c = float(input(\"c = \"))\n",
        "\n",
        "# Расчет дискриминанта\n",
        "d = b**2 - 4*a*c\n",
        "if a!=0:\n",
        "  if d>0:\n",
        "    x1 = round((-b-(d**0.5))/2*a, 1)\n",
        "    x2 = round((-b+(d**0.5))/2*a, 1)\n",
        "    print('x1 = {}, x2 = {}'.format(x1, x2))\n",
        "  elif d==0:\n",
        "    x = -b/2*a\n",
        "    print('x = {}'.format(x))\n",
        "  else:\n",
        "    print(\"Решений нет\")\n",
        "else:\n",
        "  print(\"Проверьте ввод\")\n",
        "\n",
        "\n",
        "\n",
        "# При выводе значений оставьте 1 знак после запятой\n",
        "# Удалите комментарий и допишите код\n",
        "\n",
        "# --------------\n",
        "# Пример вывода:\n",
        "#\n",
        "# a = 1\n",
        "# b = 2\n",
        "# c = 3\n",
        "# Решений нет\n",
        "#\n",
        "# a = 1\n",
        "# b = 2\n",
        "# c = 1\n",
        "# x = -1.0\n",
        "#\n",
        "# a = 1\n",
        "# b = 3\n",
        "# c = -4\n",
        "# x1 = -4.0, x2 = 1.0"
      ],
      "metadata": {
        "colab": {
          "base_uri": "https://localhost:8080/"
        },
        "id": "0DEG0Rs2EtM3",
        "outputId": "7323ee7d-e233-427d-9086-272ec6865948"
      },
      "execution_count": null,
      "outputs": [
        {
          "output_type": "stream",
          "name": "stdout",
          "text": [
            "a = 1\n",
            "b = 2\n",
            "c = 1\n",
            "x = -1.0\n"
          ]
        }
      ]
    },
    {
      "cell_type": "code",
      "source": [
        "\n",
        "# Задание task_02_07.\n",
        "#\n",
        "# Выполнил: Песенкова Е.Р.\n",
        "# Группа: ЦИБ-241\n",
        "\n",
        "\n",
        "\n",
        "nums_sum = 0  # сумма\n",
        "nums_count = 0  # количество\n",
        "\n",
        "x = int(input(\"Введите 1-е число: \"))\n",
        "while x != 0:\n",
        "  nums_sum += x\n",
        "  nums_count += 1\n",
        "  x = int(input(f\"Введите {nums_count + 1}-е число: \"))\n",
        "\n",
        "print(f\"Сумма = {nums_sum}\")\n",
        "print(f\"Количество = {nums_count}\")\n",
        "\n",
        "# --------------\n",
        "# Пример вывода:\n",
        "#\n",
        "# Введите 1-е число: 1\n",
        "# Введите 2-е число: 2\n",
        "# Введите 3-е число: 3\n",
        "# Введите 4-е число: 4\n",
        "# Введите 5-е число: 0\n",
        "# Сумма = 10\n",
        "# Количество = 4\n",
        "#\n",
        "# Введите 1-е число: 0\n",
        "# Сумма = 0\n",
        "# Количество = 0"
      ],
      "metadata": {
        "colab": {
          "base_uri": "https://localhost:8080/"
        },
        "id": "MMIf3q06VRed",
        "outputId": "61ce9f79-fd5c-43bb-f900-1eb60d81a05d"
      },
      "execution_count": null,
      "outputs": [
        {
          "output_type": "stream",
          "name": "stdout",
          "text": [
            "Введите 1-е число: 1\n",
            "Введите 2-е число: 2\n",
            "Введите 3-е число: 3\n",
            "Введите 4-е число: 4\n",
            "Введите 5-е число: 0\n",
            "Сумма = 10\n",
            "Количество = 4\n"
          ]
        }
      ]
    },
    {
      "cell_type": "code",
      "source": [
        "\n",
        "# Задание task_02_08.\n",
        "#\n",
        "# Выполнил: Песенкова Е.Р.\n",
        "# Группа: ЦИБ-241\n",
        "\n",
        "\n",
        "\n",
        "n = int(input('n = '))\n",
        "m = 0\n",
        "while m<=n:\n",
        "  print(m)\n",
        "  m += 5\n",
        "\n",
        "# --------------\n",
        "# Пример вывода:\n",
        "#\n",
        "# n = 0\n",
        "# 0\n",
        "#\n",
        "# n = 10\n",
        "# 0\n",
        "# 5\n",
        "# 10\n",
        "#\n",
        "# n = 12\n",
        "# 0\n",
        "# 5\n",
        "# 10"
      ],
      "metadata": {
        "colab": {
          "base_uri": "https://localhost:8080/"
        },
        "id": "Ei0xt06KZbN2",
        "outputId": "28392b1e-4f75-49f4-d0c9-0544417838c9"
      },
      "execution_count": null,
      "outputs": [
        {
          "output_type": "stream",
          "name": "stdout",
          "text": [
            "n = 12\n",
            "0\n",
            "5\n",
            "10\n"
          ]
        }
      ]
    },
    {
      "cell_type": "code",
      "source": [
        "\n",
        "# Задание task_02_09.\n",
        "#\n",
        "# Выполнил: Песенкова Е.Р.\n",
        "# Группа: ЦИБ-241\n",
        "\n",
        "\n",
        "\n",
        "a = float(input('a = '))\n",
        "\n",
        "n = 0\n",
        "x_sum = 0\n",
        "while x_sum <= a:\n",
        "  n+=1\n",
        "  x_sum += 1/n\n",
        "print(f'n = {n}')\n",
        "\n",
        "\n",
        "# --------------\n",
        "# Пример вывода:\n",
        "#\n",
        "# a = 1.5\n",
        "# n = 3\n",
        "#\n",
        "# a = 2\n",
        "# n = 4"
      ],
      "metadata": {
        "colab": {
          "base_uri": "https://localhost:8080/"
        },
        "id": "1IUpf93Ha_G_",
        "outputId": "6457c593-9f7f-4ec4-ef0e-c659ecb3d743"
      },
      "execution_count": 64,
      "outputs": [
        {
          "output_type": "stream",
          "name": "stdout",
          "text": [
            "a = 2\n",
            "n = 4\n"
          ]
        }
      ]
    },
    {
      "cell_type": "code",
      "source": [
        "\n",
        "# Задание task_02_10.\n",
        "#\n",
        "# Выполнил: Песенкова Е.Р.\n",
        "# Группа: ЦИБ-241\n",
        "# E-mail: pesenkovakatia@gmail.com\n",
        "\n",
        "\n",
        "n = int(input('n = '))\n",
        "\n",
        "n_sum = 0\n",
        "n_count = 0\n",
        "\n",
        "while n!=0:\n",
        "  last_n = n%10\n",
        "  n_sum += last_n\n",
        "  n_count += 1\n",
        "  n = n // 10\n",
        "print(f\"Сумма = {n_sum}\")\n",
        "print(f\"Количество = {n_count}\")\n",
        "\n",
        "# --------------\n",
        "# Пример вывода:\n",
        "#\n",
        "# n = 12345\n",
        "# Сумма = 15\n",
        "# Количество = 5"
      ],
      "metadata": {
        "colab": {
          "base_uri": "https://localhost:8080/"
        },
        "id": "yZ4-FgY_hP8P",
        "outputId": "48d75992-5d96-4ddc-e132-35c9d6546e03"
      },
      "execution_count": null,
      "outputs": [
        {
          "output_type": "stream",
          "name": "stdout",
          "text": [
            "n = 12345\n",
            "Сумма = 15\n",
            "Количество = 5\n"
          ]
        }
      ]
    },
    {
      "cell_type": "code",
      "source": [
        "\n",
        "# Задание task_02_11.\n",
        "#\n",
        "# Выполнил: Песенкова Е.Р.\n",
        "# Группа: ЦИБ-241\n",
        "\n",
        "\n",
        "\n",
        "start = int(input('start = '))\n",
        "k = int(input('k = '))\n",
        "s = int(input('s = '))\n",
        "n_count = 0\n",
        "\n",
        "while n_count<10:\n",
        "  if start%10 == k and start%s == 0:\n",
        "    print(start, end =' ')\n",
        "    n_count += 1\n",
        "  start = start + 1\n",
        "print()\n",
        "\n",
        "# --------------\n",
        "# Пример вывода:\n",
        "#\n",
        "# start = 100\n",
        "# k = 7\n",
        "# s = 9\n",
        "# 117 207 297 387 477 567 657 747 837 927"
      ],
      "metadata": {
        "id": "s1--sV-PjbVf",
        "colab": {
          "base_uri": "https://localhost:8080/"
        },
        "outputId": "f009c6cc-3937-476d-9b0f-14043c27a32b"
      },
      "execution_count": 10,
      "outputs": [
        {
          "output_type": "stream",
          "name": "stdout",
          "text": [
            "start = 100\n",
            "k = 7\n",
            "s = 9\n",
            "117 207 297 387 477 567 657 747 837 927 \n"
          ]
        }
      ]
    },
    {
      "cell_type": "code",
      "source": [
        "\n",
        "# Задание task_02_12.\n",
        "#\n",
        "# Выполнил: Песенкова Е.Р.\n",
        "# Группа: ЦИБ-241\n",
        "\n",
        "\n",
        "\n",
        "a = int(input('a = '))\n",
        "b = int(input('b = '))\n",
        "\n",
        "for i in range(a, b+1) or range(b, a+1):\n",
        "  print(i, end=\" \")\n",
        "else:\n",
        "  print()\n",
        "  if a < b:\n",
        "    i1 = list(range(a, b+1))\n",
        "    i11 = sorted(i1, reverse=True)\n",
        "    for n in i11:\n",
        "      print(n)\n",
        "  else:\n",
        "    i2 = list(range(b, a+1))\n",
        "    i22 = sorted(i2, reverse=True)\n",
        "    for n in i22:\n",
        "      print(n)\n",
        "\n",
        "\n",
        "# --------------\n",
        "# Пример вывода:\n",
        "#\n",
        "# a = 1\n",
        "# b = 5\n",
        "# 1 2 3 4 5\n",
        "# 5\n",
        "# 4\n",
        "# 3\n",
        "# 2\n",
        "# 1"
      ],
      "metadata": {
        "colab": {
          "base_uri": "https://localhost:8080/"
        },
        "id": "s-rNGA7Z3jQH",
        "outputId": "28708fc5-6ada-43dc-9151-4892767ee44a"
      },
      "execution_count": 13,
      "outputs": [
        {
          "output_type": "stream",
          "name": "stdout",
          "text": [
            "a = 1\n",
            "b = 5\n",
            "1 2 3 4 5 \n",
            "5\n",
            "4\n",
            "3\n",
            "2\n",
            "1\n"
          ]
        }
      ]
    },
    {
      "cell_type": "code",
      "source": [
        "# Задание task_02_13.\n",
        "#\n",
        "# Выполнил: Песенкова Е.Р.\n",
        "# Группа: ЦИБ-241\n",
        "# E-mail: pesenkovakatia@gmail.com\n",
        "\n",
        "\n",
        "a = int(input(\"a = \"))\n",
        "b = int(input(\"b = \"))\n",
        "n = range(a, b+1)\n",
        "\n",
        "sum = 0\n",
        "proud = 1\n",
        "pr = 1\n",
        "if a>0 and b>0 and a<=b :\n",
        "  for i in n:\n",
        "    sum += i\n",
        "    proud = proud * i\n",
        "  n = list(range(a, b+1))\n",
        "  sr_ar = round((sum / len(n)), 2)\n",
        "  odd = n[0::2]\n",
        "  from math import prod\n",
        "  sr_geom = round((prod(odd)) ** (1/len(odd)), 2)\n",
        "\n",
        "  print(f\"Сумма = {sum}\")\n",
        "  print(f\"Произедение = {proud}\")\n",
        "  print(f\"Среднее арифметическое = {sr_ar}\")\n",
        "  print(f\"Среднее геометрическое нечетных чисел = {sr_geom}\")\n",
        "# --------------\n",
        "# Пример вывода:\n",
        "#\n",
        "# a = 1\n",
        "# b = 5\n",
        "# Сумма = 15\n",
        "# Произведение = 120\n",
        "# Среднее арифметическое = 3.00\n",
        "# Среднее геометрическое нечетных чисел = 2.47"
      ],
      "metadata": {
        "colab": {
          "base_uri": "https://localhost:8080/"
        },
        "id": "_fb3iuxn7RXm",
        "outputId": "d33f56c2-d1fb-4ff8-aa9b-61071b15cba7"
      },
      "execution_count": 100,
      "outputs": [
        {
          "output_type": "stream",
          "name": "stdout",
          "text": [
            "a = 1\n",
            "b = 5\n",
            "Сумма = 15\n",
            "Произедение = 120\n",
            "Среднее арифметическое = 3.0\n",
            "Среднее геометрическое нечетных чисел = 2.47\n"
          ]
        }
      ]
    },
    {
      "cell_type": "code",
      "source": [
        "\n",
        "# Задание task_02_14.\n",
        "#\n",
        "# Выполнил: Песенкова Е.Р.\n",
        "# Группа: ЦИБ-241\n",
        "\n",
        "\n",
        "s = float(input(\"Пробег за 1-й день (км.) = \"))\n",
        "p = float(input(\"На сколько увеличивает пробег (%) = \"))\n",
        "d = 1\n",
        "total = s\n",
        "\n",
        "for t in range(2, 11):\n",
        "    d += 1\n",
        "    s = round((s + ((s / 100) * p)), 1)\n",
        "    total += s\n",
        "    print(f\"Пробег за {d}-й день: {s} км.\")\n",
        "\n",
        "total = round(total, 1)\n",
        "print(\"Суммарный пробег: {} км.\".format(total))\n",
        "\n",
        "# --------------\n",
        "# Пример вывода:\n",
        "#\n",
        "# Пробег за 1-й день (км.) = 5\n",
        "# На сколько увеличивает пробег (%) = 10\n",
        "# Пробег за 2-й день: 5.5 км.\n",
        "# Пробег за 3-й день: 6.1 км.\n",
        "# Пробег за 4-й день: 6.7 км.\n",
        "# Пробег за 5-й день: 7.3 км.\n",
        "# Пробег за 6-й день: 8.1 км.\n",
        "# Пробег за 7-й день: 8.9 км.\n",
        "# Пробег за 8-й день: 9.7 км.\n",
        "# Пробег за 9-й день: 10.7 км.\n",
        "# Пробег за 10-й день: 11.8 км.\n",
        "# Суммарный пробег: 79.7 км."
      ],
      "metadata": {
        "colab": {
          "base_uri": "https://localhost:8080/"
        },
        "id": "N0I3K07p70b7",
        "outputId": "997f7d2e-67ae-462e-e089-e5923e1a6381"
      },
      "execution_count": 19,
      "outputs": [
        {
          "output_type": "stream",
          "name": "stdout",
          "text": [
            "Пробег за 1-й день (км.) = 5\n",
            "На сколько увеличивает пробег (%) = 10\n",
            "Пробег за 2-й день: 5.5 км.\n",
            "Пробег за 3-й день: 6.0 км.\n",
            "Пробег за 4-й день: 6.6 км.\n",
            "Пробег за 5-й день: 7.3 км.\n",
            "Пробег за 6-й день: 8.0 км.\n",
            "Пробег за 7-й день: 8.8 км.\n",
            "Пробег за 8-й день: 9.7 км.\n",
            "Пробег за 9-й день: 10.7 км.\n",
            "Пробег за 10-й день: 11.8 км.\n",
            "Суммарный пробег: 79.4 км.\n"
          ]
        }
      ]
    },
    {
      "cell_type": "code",
      "source": [
        "\n",
        "# Задание task_02_15.\n",
        "#\n",
        "# Выполнил: Песенкова Е.Р.\n",
        "# Группа: ЦИБ-241\n",
        "\n",
        "\n",
        "\n",
        "p = int(input(\"Грузоподъемность грузовика (кг.) = \"))\n",
        "n = int(input(\"Количество предметов = \"))\n",
        "m=1\n",
        "b = []\n",
        "while m <= n:\n",
        "    с = int(input(f\"Масса {m}-го предмета (кг.) = \"))\n",
        "    b.append(с)\n",
        "    m += 1\n",
        "\n",
        "if sum(b) <= p:\n",
        "    print(\"Да\")\n",
        "else:\n",
        "    print(\"Нет\")\n",
        "\n",
        "# --------------\n",
        "# Пример вывода:\n",
        "#\n",
        "# Грузоподъемность грузовика (кг.) = 10\n",
        "# Количество предметов = 2\n",
        "# Масса 1-го предмета (кг.) = 3\n",
        "# Масса 2-го предмета (кг.) = 3\n",
        "# Да"
      ],
      "metadata": {
        "colab": {
          "base_uri": "https://localhost:8080/"
        },
        "id": "AclYNSjc_N6L",
        "outputId": "b55bbf3f-e397-4771-c7a4-e2b65ba8961a"
      },
      "execution_count": 28,
      "outputs": [
        {
          "output_type": "stream",
          "name": "stdout",
          "text": [
            "Грузоподъемность грузовика (кг.) = 10\n",
            "Количество предметов = 2\n",
            "Масса 1-го предмета (кг.) = 3\n",
            "Масса 2-го предмета (кг.) = 3\n",
            "Да\n"
          ]
        }
      ]
    },
    {
      "cell_type": "code",
      "source": [
        "\n",
        "# Задание task_02_16.\n",
        "#\n",
        "# Выполнил: Песенкова Е.Р.\n",
        "# Группа: ЦИБ-241\n",
        "\n",
        "\n",
        "\n",
        "n = int(input(\"Количество районов = \"))\n",
        "r = 1\n",
        "p = []\n",
        "u = []\n",
        "while r<=n:\n",
        "  s = float(input(f\"Площадь {r}-го района (га) = \"))\n",
        "  p.append(s)\n",
        "  ur = float(input(f\"Урожайность в {r}-м районе (ц/га.) = \"))\n",
        "  u.append(ur)\n",
        "  r += 1\n",
        "sum = round(((p[0] * u[0]) + (p[1] * u[1]) + (p[2]* u[2])), 1)\n",
        "print(f\"Собрано пшеницы: {sum} ц.\")\n",
        "# --------------\n",
        "# Пример вывода:\n",
        "#\n",
        "# Количество районов = 3\n",
        "# Площадь 1-го района (га) = 4\n",
        "# Урожайность в 1-м районе (ц/га.) = 2\n",
        "# Площадь 2-го района (га) = 7\n",
        "# Урожайность в 2-м районе (ц/га.) = 3\n",
        "# Площадь 3-го района (га) = 9\n",
        "# Урожайность в 3-м районе (ц/га.) = 4\n",
        "# Собрано пшеницы: 65.0 ц."
      ],
      "metadata": {
        "colab": {
          "base_uri": "https://localhost:8080/"
        },
        "id": "opZ8FsYJJn8T",
        "outputId": "ca0c11d9-cfac-40eb-a9ed-9323eaeded3f"
      },
      "execution_count": 31,
      "outputs": [
        {
          "output_type": "stream",
          "name": "stdout",
          "text": [
            "Количество районов = 3\n",
            "Площадь 1-го района (га) = 4\n",
            "Урожайность в 1-м районе (ц/га.) = 2\n",
            "Площадь 2-го района (га) = 7\n",
            "Урожайность в 2-м районе (ц/га.) = 3\n",
            "Площадь 3-го района (га) = 9\n",
            "Урожайность в 3-м районе (ц/га.) = 4\n",
            "Собрано пшеницы: 65.0 ц.\n"
          ]
        }
      ]
    },
    {
      "cell_type": "code",
      "source": [
        "\n",
        "# Задание task_02_17.\n",
        "#\n",
        "# Выполнил: Песенкова Е.Р.\n",
        "# Группа: ЦИБ-241\n",
        "\n",
        "\n",
        "x = int(input(\"Введите 1-е число: \"))\n",
        "nums_sum = 0  # сумма\n",
        "nums_count = 0  # количество\n",
        "while x != 0:\n",
        "  nums_sum += x\n",
        "  nums_count += 1\n",
        "  x = int(input(f\"Введите {nums_count + 1}-е число: \"))\n",
        "  if x==0:\n",
        "    break\n",
        "\n",
        "print(f\"Сумма = {nums_sum}\")\n",
        "print(f\"Количество = {nums_count}\")\n",
        "\n",
        "# --------------\n",
        "# Пример вывода:\n",
        "#\n",
        "# Введите 1-е число: 1\n",
        "# Введите 2-е число: 2\n",
        "# Введите 3-е число: 3\n",
        "# Введите 4-е число: 4\n",
        "# Введите 5-е число: 0\n",
        "# Сумма = 10\n",
        "# Количество = 4\n",
        "#\n",
        "# Введите 1-е число: 0\n",
        "# Сумма = 0\n",
        "# Количество = 0"
      ],
      "metadata": {
        "colab": {
          "base_uri": "https://localhost:8080/"
        },
        "id": "lw9bw6YZNj50",
        "outputId": "bfae0e24-0e02-4e6e-c529-a0eff283ae10"
      },
      "execution_count": 34,
      "outputs": [
        {
          "output_type": "stream",
          "name": "stdout",
          "text": [
            "Введите 1-е число: 0\n",
            "Сумма = 0\n",
            "Количество = 0\n"
          ]
        }
      ]
    },
    {
      "cell_type": "code",
      "source": [
        "\n",
        "# Задание task_02_18.\n",
        "#\n",
        "# Выполнил: Песенкова Е.Р.\n",
        "# Группа: ЦИБ-241\n",
        "\n",
        "\n",
        "\n",
        "sentence = input(\"Введите предложение: \")\n",
        "sentence = sentence.lower()\n",
        "gl = 'аеёиоуыэюя'\n",
        "sogl = 'бвгджзийклмнпрстфхцчшщьъ'\n",
        "for i in sentence:\n",
        "    if i in gl:\n",
        "        count_gl += 1\n",
        "    elif i in sogl:\n",
        "        count_sogl += 1\n",
        "    else:\n",
        "        continue\n",
        "print(f\"Кол-во букв в предложении: гласных - {count_gl}, согласных - {count_sogl}\")\n",
        "\n",
        "# Удалите комментарий и допишите код\n",
        "\n",
        "# --------------\n",
        "# Пример вывода:\n",
        "#\n",
        "# Введите предложение: Программирование\n",
        "# Кол-во букв в предложении: гласных - 7, согласных - 9"
      ],
      "metadata": {
        "colab": {
          "base_uri": "https://localhost:8080/"
        },
        "id": "Ry25Pja8QfC3",
        "outputId": "69ae9c69-6105-4caf-fab5-858605edae94"
      },
      "execution_count": 177,
      "outputs": [
        {
          "output_type": "stream",
          "name": "stdout",
          "text": [
            "Введите предложение: Программирование\n",
            "Кол-во букв в предложении: гласных - 7, согласных - 9\n"
          ]
        }
      ]
    },
    {
      "cell_type": "code",
      "source": [
        "\n",
        "# Задание task_02_19.\n",
        "#\n",
        "# Выполнил: Песенкова Е.Р.\n",
        "# Группа: ЦИБ-241\n",
        "\n",
        "\n",
        "\n",
        "a = int(input(\"a = \"))\n",
        "b = int(input(\"b = \"))\n",
        "c = int(input(\"c = \"))\n",
        "\n",
        "for i in range(a, b+1):\n",
        "    if (i % c == 0) and (i // i == 1):\n",
        "        print(i, end=' ')\n",
        "\n",
        "\n",
        "# --------------\n",
        "# Пример вывода:\n",
        "#\n",
        "# a = 1\n",
        "# b = 10\n",
        "# c = 2\n",
        "# 2 4 6 8 10"
      ],
      "metadata": {
        "colab": {
          "base_uri": "https://localhost:8080/"
        },
        "id": "ttvD5h7HRk50",
        "outputId": "79d0a8b4-7cba-4272-8da1-c8ee45381ead"
      },
      "execution_count": 38,
      "outputs": [
        {
          "output_type": "stream",
          "name": "stdout",
          "text": [
            "a = 1\n",
            "b = 10\n",
            "c = 2\n",
            "2 4 6 8 10 "
          ]
        }
      ]
    },
    {
      "cell_type": "code",
      "source": [
        "\n",
        "# Задание task_02_20.\n",
        "#\n",
        "# Выполнил: Песенкова Е.Р.\n",
        "# Группа: ЦИБ-241\n",
        "\n",
        "\n",
        "\n",
        "n = int(input(\"n = \"))\n",
        "\n",
        "for i in range(100, 1000):\n",
        "    o = i // 100\n",
        "    t = (i // 10) % 10\n",
        "    th = i % 10\n",
        "    if o + t + th == n:\n",
        "        print(i, end=' ')\n",
        "    elif o + t + th != n:\n",
        "        continue\n",
        "\n",
        "# --------------\n",
        "# Пример вывода:\n",
        "#\n",
        "# n = 3\n",
        "# 102 111 120 201 210 300"
      ],
      "metadata": {
        "colab": {
          "base_uri": "https://localhost:8080/"
        },
        "id": "I9j9POaLR14a",
        "outputId": "a00442fc-6d60-44ad-f294-34b313e807c9"
      },
      "execution_count": 39,
      "outputs": [
        {
          "output_type": "stream",
          "name": "stdout",
          "text": [
            "n = 3\n",
            "102 111 120 201 210 300 "
          ]
        }
      ]
    },
    {
      "cell_type": "code",
      "source": [
        "\n",
        "# Задание task_02_21.\n",
        "#\n",
        "# Выполнил: Песенкова Е.Р.\n",
        "# Группа: ЦИБ-241\n",
        "\n",
        "\n",
        "n = int(input(\"n = \"))\n",
        "c = 1 #нумерация\n",
        "d = []\n",
        "m = []\n",
        "while c <= n:\n",
        "  r = float(input(f\"Рост {c}-го ученика = \"))\n",
        "  c += 1\n",
        "  if r > 0:\n",
        "    d.append(r)\n",
        "  elif r < 0:\n",
        "    m.append(-r)\n",
        "r_sr_m = round(sum(m) / 1, 1)\n",
        "r_sr_d = round(sum(d) / 4, 1)\n",
        "\n",
        "print(f\"Средний рост мальчиков: {r_sr_m}\")\n",
        "print(f\"Средний рост девочек: {r_sr_d}\")\n",
        "\n",
        "# --------------\n",
        "# Пример вывода:\n",
        "#\n",
        "# n = 5\n",
        "# Рост 1-го ученика = 150\n",
        "# Рост 2-го ученика = -150\n",
        "# Рост 3-го ученика = 160\n",
        "# Рост 4-го ученика = 170\n",
        "# Рост 5-го ученика = 180\n",
        "# Средний рост мальчиков: 150.0\n",
        "# Средний рост девочек: 165.0"
      ],
      "metadata": {
        "colab": {
          "base_uri": "https://localhost:8080/",
          "height": 315
        },
        "id": "iyEpQ-M_SCoC",
        "outputId": "9fae41a5-c133-43c3-b46b-99465f516891"
      },
      "execution_count": 175,
      "outputs": [
        {
          "name": "stdout",
          "output_type": "stream",
          "text": [
            "n = 5\n",
            "Рост 1-го ученика = 150\n",
            "Рост 2-го ученика = -150\n",
            "Рост 3-го ученика = 160\n",
            "Рост 4-го ученика = 170\n",
            "Рост 5-го ученика = 180\n"
          ]
        },
        {
          "output_type": "error",
          "ename": "TypeError",
          "evalue": "'int' object is not callable",
          "traceback": [
            "\u001b[0;31m---------------------------------------------------------------------------\u001b[0m",
            "\u001b[0;31mTypeError\u001b[0m                                 Traceback (most recent call last)",
            "\u001b[0;32m<ipython-input-175-b74a992d40aa>\u001b[0m in \u001b[0;36m<cell line: 0>\u001b[0;34m()\u001b[0m\n\u001b[1;32m     16\u001b[0m   \u001b[0;32melif\u001b[0m \u001b[0mr\u001b[0m \u001b[0;34m<\u001b[0m \u001b[0;36m0\u001b[0m\u001b[0;34m:\u001b[0m\u001b[0;34m\u001b[0m\u001b[0;34m\u001b[0m\u001b[0m\n\u001b[1;32m     17\u001b[0m     \u001b[0mm\u001b[0m\u001b[0;34m.\u001b[0m\u001b[0mappend\u001b[0m\u001b[0;34m(\u001b[0m\u001b[0;34m-\u001b[0m\u001b[0mr\u001b[0m\u001b[0;34m)\u001b[0m\u001b[0;34m\u001b[0m\u001b[0;34m\u001b[0m\u001b[0m\n\u001b[0;32m---> 18\u001b[0;31m \u001b[0mr_sr_m\u001b[0m \u001b[0;34m=\u001b[0m \u001b[0mround\u001b[0m\u001b[0;34m(\u001b[0m\u001b[0msum\u001b[0m\u001b[0;34m(\u001b[0m\u001b[0mm\u001b[0m\u001b[0;34m)\u001b[0m \u001b[0;34m/\u001b[0m \u001b[0;36m1\u001b[0m\u001b[0;34m,\u001b[0m \u001b[0;36m1\u001b[0m\u001b[0;34m)\u001b[0m\u001b[0;34m\u001b[0m\u001b[0;34m\u001b[0m\u001b[0m\n\u001b[0m\u001b[1;32m     19\u001b[0m \u001b[0mr_sr_d\u001b[0m \u001b[0;34m=\u001b[0m \u001b[0mround\u001b[0m\u001b[0;34m(\u001b[0m\u001b[0msum\u001b[0m\u001b[0;34m(\u001b[0m\u001b[0md\u001b[0m\u001b[0;34m)\u001b[0m \u001b[0;34m/\u001b[0m \u001b[0;36m4\u001b[0m\u001b[0;34m,\u001b[0m \u001b[0;36m1\u001b[0m\u001b[0;34m)\u001b[0m\u001b[0;34m\u001b[0m\u001b[0;34m\u001b[0m\u001b[0m\n\u001b[1;32m     20\u001b[0m \u001b[0;34m\u001b[0m\u001b[0m\n",
            "\u001b[0;31mTypeError\u001b[0m: 'int' object is not callable"
          ]
        }
      ]
    },
    {
      "cell_type": "code",
      "source": [
        "# Задание task_02_22.\n",
        "#\n",
        "# Выполнил: Песенкова Е.Р.\n",
        "# Группа: ЦИБ-241\n",
        "# E-mail: pesenkovakatia@gmail.com\n",
        "\n",
        "\n",
        "n = float(input(\"n = \"))\n",
        "n_count = 1\n",
        "a = list()\n",
        "a_max = None\n",
        "a_min = None\n",
        "while n_count <= n:\n",
        "  f = float(input(f\"{n_count}-е число = \"))\n",
        "  a.append(f)\n",
        "  n_count+=1\n",
        "\n",
        "a_max = round(max(a), 2)\n",
        "a_min = round(min(a), 2)\n",
        "print(f\"Максимум: {a_max}\")\n",
        "print(f\"Минимум: {a_min}\")\n",
        "# --------------\n",
        "# Пример вывода:\n",
        "#\n",
        "# n = 4\n",
        "# 1-е число = 6.2\n",
        "# 2-е число = 3.8\n",
        "# 3-е число = 1.1\n",
        "# 4-е число = 9.66\n",
        "# Максимум: 9.66\n",
        "# Минимум: 1.10"
      ],
      "metadata": {
        "colab": {
          "base_uri": "https://localhost:8080/"
        },
        "id": "4x9HWB0WV1UP",
        "outputId": "807e32b3-267d-4684-bb7a-b9d117ef832b"
      },
      "execution_count": 59,
      "outputs": [
        {
          "output_type": "stream",
          "name": "stdout",
          "text": [
            "n = 4\n",
            "1-е число = 6.2\n",
            "2-е число = 3.8\n",
            "3-е число = 1.1\n",
            "4-е число = 9.66\n",
            "Максимум: 9.66\n",
            "Минимум: 1.1\n"
          ]
        }
      ]
    },
    {
      "cell_type": "code",
      "source": [
        "\n",
        "# Задание task_02_23.\n",
        "#\n",
        "# Выполнил: Песенкова Е.Р.\n",
        "# Группа: ЦИБ-241\n",
        "\n",
        "\n",
        "\n",
        "n = int(input('n = '))\n",
        "\n",
        "a = 0\n",
        "b = 1\n",
        "\n",
        "while b < n:\n",
        "    a, b = b, a + b\n",
        "\n",
        "if b == n:\n",
        "    print('Является')\n",
        "else:\n",
        "    print('Не является')\n",
        "\n",
        "# --------------\n",
        "# Пример вывода:\n",
        "#\n",
        "# n = 7\n",
        "# Не является\n",
        "#\n",
        "# n = 8\n",
        "# Является\n"
      ],
      "metadata": {
        "colab": {
          "base_uri": "https://localhost:8080/"
        },
        "id": "__f-AGYlXThe",
        "outputId": "cdebc3f8-e9dc-417f-88d6-b729a5d7e8bf"
      },
      "execution_count": 61,
      "outputs": [
        {
          "output_type": "stream",
          "name": "stdout",
          "text": [
            "n = 8\n",
            "Является\n"
          ]
        }
      ]
    },
    {
      "cell_type": "code",
      "source": [
        "\n",
        "# Задание task_02_24.\n",
        "#\n",
        "# Выполнил: Песенкова Е.Р.\n",
        "# Группа: ЦИБ-241\n",
        "\n",
        "\n",
        "# -1 означает, что последовательность упорядочена по возрастанию\n",
        "# Если это не так, 'index' меняется в цикле на индекс элемента,\n",
        "# нарушающего порядок\n",
        "n = int(input(\"n = \"))\n",
        "index = -1\n",
        "prev = float(input(\"1-е число = \"))\n",
        "count = 1\n",
        "for i in range(n-1):\n",
        "    count += 1\n",
        "    a = float(input(f\"{count}-е число = \"))\n",
        "    if a > prev:\n",
        "        continue\n",
        "    elif a > a:\n",
        "        index = index\n",
        "    elif a <= a:\n",
        "        index = i +2\n",
        "        break\n",
        "\n",
        "    if index == i:\n",
        "        break\n",
        "if index == -1:\n",
        "    print(\"Является\")\n",
        "elif index == i + 2:\n",
        "    print(index)\n",
        "# --------------\n",
        "# Пример вывода:\n",
        "#\n",
        "# n = 4\n",
        "# 1-е число = 2\n",
        "# 2-е число = 4.6\n",
        "# 3-е число = 6\n",
        "# 4-е число = 8.3\n",
        "# Является\n",
        "#\n",
        "# n = 3\n",
        "# 1-е число = 3\n",
        "# 2-е число = 3\n",
        "# 2\n"
      ],
      "metadata": {
        "colab": {
          "base_uri": "https://localhost:8080/"
        },
        "id": "lxWyRYyAXeeh",
        "outputId": "4e520a81-f54f-40d4-9a04-477482f7fb1e"
      },
      "execution_count": 62,
      "outputs": [
        {
          "output_type": "stream",
          "name": "stdout",
          "text": [
            "n = 4\n",
            "1-е число = 2\n",
            "2-е число = 4.6\n",
            "3-е число = 6\n",
            "4-е число = 8.3\n",
            "Является\n"
          ]
        }
      ]
    },
    {
      "cell_type": "code",
      "source": [
        "\n",
        "# Задание task_02_25.\n",
        "#\n",
        "# Выполнил: Песенкова Е.Р.\n",
        "# Группа: ЦИБ-241\n",
        "\n",
        "n = int(input(\"n = \"))\n",
        "for i in range (1, n+1):\n",
        "    for j in range (1, n+1):\n",
        "        print( i, \"*\", j, \"=\", i*j, end='\\t')\n",
        "    print()\n",
        "\n",
        "# --------------\n",
        "# Пример вывода:\n",
        "#\n",
        "# n = 5\n",
        "# 1 * 1 =  1  1 * 2 =  2  1 * 3 =  3  1 * 4 =  4  1 * 5 =  5\n",
        "# 2 * 1 =  2  2 * 2 =  4  2 * 3 =  6  2 * 4 =  8  2 * 5 = 10\n",
        "# 3 * 1 =  3  3 * 2 =  6  3 * 3 =  9  3 * 4 = 12  3 * 5 = 15\n",
        "# 4 * 1 =  4  4 * 2 =  8  4 * 3 = 12  4 * 4 = 16  4 * 5 = 20\n",
        "# 5 * 1 =  5  5 * 2 = 10  5 * 3 = 15  5 * 4 = 20  5 * 5 = 25"
      ],
      "metadata": {
        "colab": {
          "base_uri": "https://localhost:8080/"
        },
        "id": "MV9M-zd0XzmZ",
        "outputId": "a1387c57-f3cd-4fa2-8756-c81c53db456e"
      },
      "execution_count": 66,
      "outputs": [
        {
          "output_type": "stream",
          "name": "stdout",
          "text": [
            "n = 9\n",
            "1 * 1 = 1\t1 * 2 = 2\t1 * 3 = 3\t1 * 4 = 4\t1 * 5 = 5\t1 * 6 = 6\t1 * 7 = 7\t1 * 8 = 8\t1 * 9 = 9\t\n",
            "2 * 1 = 2\t2 * 2 = 4\t2 * 3 = 6\t2 * 4 = 8\t2 * 5 = 10\t2 * 6 = 12\t2 * 7 = 14\t2 * 8 = 16\t2 * 9 = 18\t\n",
            "3 * 1 = 3\t3 * 2 = 6\t3 * 3 = 9\t3 * 4 = 12\t3 * 5 = 15\t3 * 6 = 18\t3 * 7 = 21\t3 * 8 = 24\t3 * 9 = 27\t\n",
            "4 * 1 = 4\t4 * 2 = 8\t4 * 3 = 12\t4 * 4 = 16\t4 * 5 = 20\t4 * 6 = 24\t4 * 7 = 28\t4 * 8 = 32\t4 * 9 = 36\t\n",
            "5 * 1 = 5\t5 * 2 = 10\t5 * 3 = 15\t5 * 4 = 20\t5 * 5 = 25\t5 * 6 = 30\t5 * 7 = 35\t5 * 8 = 40\t5 * 9 = 45\t\n",
            "6 * 1 = 6\t6 * 2 = 12\t6 * 3 = 18\t6 * 4 = 24\t6 * 5 = 30\t6 * 6 = 36\t6 * 7 = 42\t6 * 8 = 48\t6 * 9 = 54\t\n",
            "7 * 1 = 7\t7 * 2 = 14\t7 * 3 = 21\t7 * 4 = 28\t7 * 5 = 35\t7 * 6 = 42\t7 * 7 = 49\t7 * 8 = 56\t7 * 9 = 63\t\n",
            "8 * 1 = 8\t8 * 2 = 16\t8 * 3 = 24\t8 * 4 = 32\t8 * 5 = 40\t8 * 6 = 48\t8 * 7 = 56\t8 * 8 = 64\t8 * 9 = 72\t\n",
            "9 * 1 = 9\t9 * 2 = 18\t9 * 3 = 27\t9 * 4 = 36\t9 * 5 = 45\t9 * 6 = 54\t9 * 7 = 63\t9 * 8 = 72\t9 * 9 = 81\t\n"
          ]
        }
      ]
    },
    {
      "cell_type": "code",
      "source": [
        "\n",
        "# Задание task_02_26.\n",
        "#\n",
        "# Выполнил: Песенкова Е.Р.\n",
        "# Группа: ЦИБ-241\n",
        "\n",
        "\n",
        "n = int(input('n = '))\n",
        "for num in range(1, n+1):\n",
        "  d = 0\n",
        "  for i in range(1, num + 1):\n",
        "    if num % i == 0:\n",
        "      d += 1\n",
        "  print(f\"{num} {'*' * d}\")\n",
        "\n",
        "\n",
        "# --------------\n",
        "# Пример вывода:\n",
        "#\n",
        "# n = 10\n",
        "# 1 *\n",
        "# 2 **\n",
        "# 3 **\n",
        "# 4 ***\n",
        "# 5 **\n",
        "# 6 ****\n",
        "# 7 **\n",
        "# 8 ****\n",
        "# 9 ***\n",
        "# 10 ****"
      ],
      "metadata": {
        "colab": {
          "base_uri": "https://localhost:8080/"
        },
        "id": "B4DdBSOiYLD1",
        "outputId": "4cf8fd8a-b610-4ddb-e727-2fc2a104cf2e"
      },
      "execution_count": 86,
      "outputs": [
        {
          "output_type": "stream",
          "name": "stdout",
          "text": [
            "n = 10\n",
            "1 *\n",
            "2 **\n",
            "3 **\n",
            "4 ***\n",
            "5 **\n",
            "6 ****\n",
            "7 **\n",
            "8 ****\n",
            "9 ***\n",
            "10 ****\n"
          ]
        }
      ]
    },
    {
      "cell_type": "code",
      "source": [
        "\n",
        "# Задание task_02_27.\n",
        "#\n",
        "# Выполнил: Песенкова Е.Р.\n",
        "# Группа: ЦИБ-241\n",
        "\n",
        "n = int(input(\"n = \"))\n",
        "p = []\n",
        "number = 2\n",
        "\n",
        "while len(p) < n:\n",
        "    is_p = True\n",
        "    for i in range(2, number):\n",
        "        if number % i == 0:\n",
        "            is_p = False\n",
        "            break\n",
        "    if is_p:\n",
        "        p.append(number)\n",
        "    number += 1\n",
        "\n",
        "for p1 in p:\n",
        "    print(p1, end=\" \")\n",
        "print()\n",
        "# --------------\n",
        "# Пример вывода:\n",
        "#\n",
        "# n = 10\n",
        "# 2 3 5 7 11 13 17 19 23 29"
      ],
      "metadata": {
        "colab": {
          "base_uri": "https://localhost:8080/"
        },
        "id": "xzgQDwna09Ld",
        "outputId": "2e49c679-39eb-4bfe-91e2-e9023bd73c6d"
      },
      "execution_count": 89,
      "outputs": [
        {
          "output_type": "stream",
          "name": "stdout",
          "text": [
            "n = 10\n",
            "2 3 5 7 11 13 17 19 23 29 \n"
          ]
        }
      ]
    },
    {
      "cell_type": "code",
      "source": [
        "\n",
        "# Задание task_02_28.\n",
        "#\n",
        "# Выполнил: Песенкова Е.Р.\n",
        "# Группа: ЦИБ-241\n",
        "\n",
        "k = int(input('k = '))\n",
        "for x in range(1, 31):\n",
        "  for y in range(1, 31):\n",
        "    for z in range(1, 31):\n",
        "      if x**2+y**2+z**2==k**2:\n",
        "        print(f\"x = {x}, y = {y}, z = {z}\", end='\\t')\n",
        "        print()\n",
        "\n",
        "# --------------\n",
        "# Пример вывода:\n",
        "#\n",
        "# k = 30\n",
        "# x =  4, y = 10, z = 28\n",
        "# x =  4, y = 20, z = 22\n",
        "# x =  4, y = 22, z = 20\n",
        "# x =  4, y = 28, z = 10\n",
        "# x = 10, y =  4, z = 28\n",
        "# x = 10, y = 20, z = 20\n",
        "# x = 10, y = 28, z =  4\n",
        "# x = 20, y =  4, z = 22\n",
        "# x = 20, y = 10, z = 20\n",
        "# x = 20, y = 20, z = 10\n",
        "# x = 20, y = 22, z =  4\n",
        "# x = 22, y =  4, z = 20\n",
        "# x = 22, y = 20, z =  4\n",
        "# x = 28, y =  4, z = 10\n",
        "# x = 28, y = 10, z =  4"
      ],
      "metadata": {
        "colab": {
          "base_uri": "https://localhost:8080/"
        },
        "id": "7JWa7I2W3vAQ",
        "outputId": "991144c5-b4b8-4028-e9b0-ccae9d138e98"
      },
      "execution_count": 179,
      "outputs": [
        {
          "output_type": "stream",
          "name": "stdout",
          "text": [
            "k = 30\n",
            "x = 4, y = 10, z = 28\t\n",
            "x = 4, y = 20, z = 22\t\n",
            "x = 4, y = 22, z = 20\t\n",
            "x = 4, y = 28, z = 10\t\n",
            "x = 10, y = 4, z = 28\t\n",
            "x = 10, y = 20, z = 20\t\n",
            "x = 10, y = 28, z = 4\t\n",
            "x = 20, y = 4, z = 22\t\n",
            "x = 20, y = 10, z = 20\t\n",
            "x = 20, y = 20, z = 10\t\n",
            "x = 20, y = 22, z = 4\t\n",
            "x = 22, y = 4, z = 20\t\n",
            "x = 22, y = 20, z = 4\t\n",
            "x = 28, y = 4, z = 10\t\n",
            "x = 28, y = 10, z = 4\t\n"
          ]
        }
      ]
    },
    {
      "cell_type": "code",
      "source": [
        "\n",
        "# Задание task_02_29.\n",
        "#\n",
        "# Выполнил: Песенкова Е.Р.\n",
        "# Группа: ЦИБ-241\n",
        "\n",
        "\n",
        "\n",
        "\n",
        "n = int(input(\"n = \"))\n",
        "count = 0\n",
        "nums = []\n",
        "\n",
        "nums_pos = []\n",
        "nums_neg = []\n",
        "\n",
        "while count < n:\n",
        "    count += 1\n",
        "    a = int(input(f\"Введите {count}-й элемент списка: \"))\n",
        "    nums.append(a)\n",
        "    if a>0:\n",
        "      nums_pos.append(a)\n",
        "    else:\n",
        "      nums_neg.append(a)\n",
        "\n",
        "sr_ar = round((sum(nums_pos))/(len(nums_pos)), 2)\n",
        "sr_geom = round((nums_neg[0] * nums_neg[1]) ** 1/2, 2)\n",
        "\n",
        "print(\"Исходный список: \", nums)\n",
        "print(\"Положительные числа: \", nums_pos)\n",
        "print(\"Отрицательные числа: \", nums_neg)\n",
        "print(\"Ср. арифм.: \", sr_ar)\n",
        "print(\"Ср. геом.: \", sr_geom)\n",
        "\n",
        "# --------------\n",
        "# Пример вывода:\n",
        "#\n",
        "# n = 4\n",
        "# Введите 1-й элемент списка: 1\n",
        "# Введите 2-й элемент списка: 6\n",
        "# Введите 3-й элемент списка: -10\n",
        "# Введите 4-й элемент списка: -3\n",
        "# Исходный список: [1.0, 6.0, -10.0, -3.0]\n",
        "# Положительные числа: [1.0, 6.0]\n",
        "# Отрицательные числа: [-10.0, -3.0]\n",
        "# Ср. арифм.: 3.50\n",
        "# Ср. геом.: 5.48"
      ],
      "metadata": {
        "colab": {
          "base_uri": "https://localhost:8080/",
          "height": 297
        },
        "id": "1wLSxS5U7Ep0",
        "outputId": "8c6d1123-faff-4bfa-cbc0-d5e30ffbd611"
      },
      "execution_count": 185,
      "outputs": [
        {
          "name": "stdout",
          "output_type": "stream",
          "text": [
            "n = 4\n",
            "Введите 1-й элемент списка: 1\n",
            "Введите 2-й элемент списка: 6\n",
            "Введите 3-й элемент списка: -10\n",
            "Введите 4-й элемент списка: -3\n"
          ]
        },
        {
          "output_type": "error",
          "ename": "TypeError",
          "evalue": "'int' object is not callable",
          "traceback": [
            "\u001b[0;31m---------------------------------------------------------------------------\u001b[0m",
            "\u001b[0;31mTypeError\u001b[0m                                 Traceback (most recent call last)",
            "\u001b[0;32m<ipython-input-185-a8ff902b4735>\u001b[0m in \u001b[0;36m<cell line: 0>\u001b[0;34m()\u001b[0m\n\u001b[1;32m     23\u001b[0m       \u001b[0mnums_neg\u001b[0m\u001b[0;34m.\u001b[0m\u001b[0mappend\u001b[0m\u001b[0;34m(\u001b[0m\u001b[0ma\u001b[0m\u001b[0;34m)\u001b[0m\u001b[0;34m\u001b[0m\u001b[0;34m\u001b[0m\u001b[0m\n\u001b[1;32m     24\u001b[0m \u001b[0;34m\u001b[0m\u001b[0m\n\u001b[0;32m---> 25\u001b[0;31m \u001b[0msr_ar\u001b[0m \u001b[0;34m=\u001b[0m \u001b[0mround\u001b[0m\u001b[0;34m(\u001b[0m\u001b[0;34m(\u001b[0m\u001b[0msum\u001b[0m\u001b[0;34m(\u001b[0m\u001b[0mnums_pos\u001b[0m\u001b[0;34m)\u001b[0m\u001b[0;34m)\u001b[0m\u001b[0;34m/\u001b[0m\u001b[0;34m(\u001b[0m\u001b[0mlen\u001b[0m\u001b[0;34m(\u001b[0m\u001b[0mnums_pos\u001b[0m\u001b[0;34m)\u001b[0m\u001b[0;34m)\u001b[0m\u001b[0;34m,\u001b[0m \u001b[0;36m2\u001b[0m\u001b[0;34m)\u001b[0m\u001b[0;34m\u001b[0m\u001b[0;34m\u001b[0m\u001b[0m\n\u001b[0m\u001b[1;32m     26\u001b[0m \u001b[0msr_geom\u001b[0m \u001b[0;34m=\u001b[0m \u001b[0mround\u001b[0m\u001b[0;34m(\u001b[0m\u001b[0;34m(\u001b[0m\u001b[0mnums_neg\u001b[0m\u001b[0;34m[\u001b[0m\u001b[0;36m0\u001b[0m\u001b[0;34m]\u001b[0m \u001b[0;34m*\u001b[0m \u001b[0mnums_neg\u001b[0m\u001b[0;34m[\u001b[0m\u001b[0;36m1\u001b[0m\u001b[0;34m]\u001b[0m\u001b[0;34m)\u001b[0m \u001b[0;34m**\u001b[0m \u001b[0;36m1\u001b[0m\u001b[0;34m/\u001b[0m\u001b[0;36m2\u001b[0m\u001b[0;34m,\u001b[0m \u001b[0;36m2\u001b[0m\u001b[0;34m)\u001b[0m\u001b[0;34m\u001b[0m\u001b[0;34m\u001b[0m\u001b[0m\n\u001b[1;32m     27\u001b[0m \u001b[0;34m\u001b[0m\u001b[0m\n",
            "\u001b[0;31mTypeError\u001b[0m: 'int' object is not callable"
          ]
        }
      ]
    },
    {
      "cell_type": "code",
      "source": [
        "\n",
        "# Задание task_02_30.\n",
        "#\n",
        "# Выполнил: Песенкова Е.Р.\n",
        "# Группа: ЦИБ-241\n",
        "\n",
        "\n",
        "\n",
        "# Все разделенные пробелом элементы будут преобразованы в список целых чисел\n",
        "nums = [int(item) for item in input().split()]\n",
        "\n",
        "# 1. Все положительные\n",
        "for item in nums:\n",
        "    if item <= 0:\n",
        "        all_pos_1 = False\n",
        "        break\n",
        "else:\n",
        "    all_pos_1 = True\n",
        "\n",
        "all_pos_2 = all([item > 0 for item in nums])\n",
        "\n",
        "# 2. Хотя бы 1 нулевой элемент\n",
        "for item in nums:\n",
        "    if item == 0:\n",
        "        any_zero_1 = True\n",
        "        break\n",
        "else:\n",
        "    any_zero_1 = False\n",
        "\n",
        "any_zero_2 = any([item == 0 for item in nums])\n",
        "\n",
        "# 3. Все четные\n",
        "for item in nums:\n",
        "    if item % 2 != 0:\n",
        "        all_even_1 = False\n",
        "        break\n",
        "else:\n",
        "    all_even_1 = True\n",
        "\n",
        "all_even_2 = all([item % 2 == 0 for item in nums])\n",
        "\n",
        "# 4. Хотя бы 1 нечетный элемент\n",
        "for item in nums:\n",
        "    if item % 2 != 0:\n",
        "        any_odd_1 = True\n",
        "        break\n",
        "else:\n",
        "    any_odd_1 = False\n",
        "\n",
        "any_odd_2 = any([item % 2 != 0 for item in nums])\n",
        "\n",
        "print(\"Все положительные:\", all_pos_1, all_pos_2)\n",
        "print(\"Хотя бы 1 нулевой элемент:\", any_zero_1, any_zero_2)\n",
        "print(\"Все четные:\", all_even_1, all_even_2)\n",
        "print(\"Хотя бы 1 нечетный элемент:\", any_odd_1, any_odd_2)\n",
        "\n",
        "# --------------\n",
        "# Пример вывода:\n",
        "#\n",
        "# -1 1 100 0\n",
        "# Все положительные: False False\n",
        "# Хотя бы 1 нулевой элемент: True True\n",
        "# Все четные: False False\n",
        "# Хотя бы 1 нечетный элемент: True True"
      ],
      "metadata": {
        "colab": {
          "base_uri": "https://localhost:8080/"
        },
        "id": "DXgLPYM-FjpM",
        "outputId": "ce2bb5f9-0889-48ff-b4cb-98fb8f62c570"
      },
      "execution_count": 131,
      "outputs": [
        {
          "output_type": "stream",
          "name": "stdout",
          "text": [
            "-1 1 100 0\n",
            "Все положительные: False False\n",
            "Хотя бы 1 нулевой элемент: True True\n",
            "Все четные: False False\n",
            "Хотя бы 1 нечетный элемент: True True\n"
          ]
        }
      ]
    },
    {
      "cell_type": "code",
      "source": [
        "\n",
        "# Задание task_02_31.\n",
        "#\n",
        "# Выполнил: Песенкова Е.Р.\n",
        "# Группа: ЦИБ-241\n",
        "\n",
        "s = input(\"Введите предложение = \")\n",
        "k = input(\"Введите букву = \")\n",
        "s_s = s.split()\n",
        "s = []\n",
        "for i in range(len(s_s)):\n",
        "  if k.lower() not in s_s[i] and k.upper() not in s_s[i]:\n",
        "    s.append(s_s[i])\n",
        "s = ' '.join(s)\n",
        "print(s)\n",
        "\n",
        "\n",
        "# --------------\n",
        "# Пример вывода:\n",
        "#\n",
        "# Введите предложение = МАМА мыла РаМу\n",
        "# Введите букву = р\n",
        "# МАМА мыла"
      ],
      "metadata": {
        "colab": {
          "base_uri": "https://localhost:8080/"
        },
        "id": "z0e1RFLFG7GV",
        "outputId": "01a99e74-b341-4072-817d-ebb2deb26d69"
      },
      "execution_count": 190,
      "outputs": [
        {
          "output_type": "stream",
          "name": "stdout",
          "text": [
            "Введите предложение = МАМА мыла РаМу\n",
            "Введите букву = р\n",
            "МАМА мыла\n"
          ]
        }
      ]
    },
    {
      "cell_type": "code",
      "source": [
        "\n",
        "# Задание task_02_32.\n",
        "#\n",
        "# Выполнил: Песенкова Е.Р.\n",
        "# Группа: ЦИБ-241\n",
        "\n",
        "\n",
        "\n",
        "n = int(input(\"Количество рядов = \"))\n",
        "\n",
        "# 1. Заполнение мест\n",
        "seats = []\n",
        "for _ in range(n):\n",
        "    row = list(map(int, input().split()))\n",
        "    seats.append(row)\n",
        "\n",
        "# 2. Всего свободных мест\n",
        "count = 0\n",
        "for row in seats:\n",
        "    count += row.count(0)\n",
        "print(f\"Всего свободных мест: {count}\")\n",
        "\n",
        "# 3. Ввод значений для поиска\n",
        "n_p, m_p = [int(item) for item in input(\"Введите ряд и место через пробел: \").split()]\n",
        "\n",
        "# Корректировка ввода пользователя (с 1 на 0-индексацию)\n",
        "n_p -= 1\n",
        "m_p -= 1\n",
        "\n",
        "# Проверка границ\n",
        "if n_p < 0 or n_p >= len(seats) or m_p < 0 or m_p >= len(seats[n_p]):\n",
        "    print(\"Такого места не существует\")\n",
        "else:\n",
        "    print(f\"Место свободно: {seats[n_p][m_p] == 0}\")\n",
        "\n",
        "# --------------\n",
        "# Пример вывода:\n",
        "#\n",
        "# Количество рядов = 3\n",
        "# 0 0 0\n",
        "# 1 1 1\n",
        "# 0 0 0 0 1\n",
        "# Всего свободных мест: 7\n",
        "# Введите ряд и место через пробел: 1 1\n",
        "# Место свободно: True"
      ],
      "metadata": {
        "colab": {
          "base_uri": "https://localhost:8080/"
        },
        "id": "O7ufIYhGIocR",
        "outputId": "2ef8d079-9118-4f9b-8636-9e5e00da6b50"
      },
      "execution_count": 134,
      "outputs": [
        {
          "output_type": "stream",
          "name": "stdout",
          "text": [
            "Количество рядов = 3\n",
            "0 0 0\n",
            "1 1 1\n",
            "0 0 0 0 1\n",
            "Всего свободных мест: 7\n",
            "Введите ряд и место через пробел: 1 1\n",
            "Место свободно: True\n"
          ]
        }
      ]
    },
    {
      "cell_type": "code",
      "source": [
        "\n",
        "# Задание task_02_33.\n",
        "#\n",
        "# Выполнил: Фамилия И.О.\n",
        "# Группа: !!!\n",
        "\n",
        "\n",
        "\n",
        "# 1. Заполнение списка\n",
        "# Используйте данный список для собственных тестов\n",
        "# Перед автоматической проверкой удалите/закомментируйте его\n",
        "# employees = [\n",
        "#     [\"Петрова\", \"Анна\", \"Алексеевна\", \"Ж\", 5],\n",
        "#     [\"Семенов\", \"Николай\", \"Михайлович\", \"М\", 2],\n",
        "#     [\"Михайлов\", \"Игорь\", \"Васильевич\", \"М\", 3]\n",
        "# ]\n",
        "\n",
        "n = int(input(\"Количество сотрудников = \"))\n",
        "\n",
        "employees = []\n",
        "for _ in range(n):\n",
        "    employee = input().split()\n",
        "    employees.append(employee)\n",
        "\n",
        "# 2. Самый «молодой» и самый «старый» сотрудник\n",
        "sorted_employees = sorted(employees, key=lambda x: int(x[4]))\n",
        "employee_min = sorted_employees[0]\n",
        "employee_max = sorted_employees[-1]\n",
        "print(\"Самый 'молодой': {}\".format(\" \".join(employee_min[:3])))\n",
        "print(\"Самый 'старый': {}\".format(\" \".join(employee_max[:3])))\n",
        "\n",
        "# 3. Отдельные списки мужчин и женщин\n",
        "men = [employee for employee in employees if employee[3] == \"М\"]\n",
        "women = [employee for employee in employees if employee[3] == \"Ж\"]\n",
        "\n",
        "k = input(\"Введите букву начала имени = \")\n",
        "men_k_count = sum(1 for employee in men if employee[1][0].lower() == k.lower())\n",
        "women_k_count = sum(1 for employee in women if employee[1][0].lower() == k.lower())\n",
        "\n",
        "if men_k_count > women_k_count:\n",
        "    print(\"У мужчин таких имен больше\")\n",
        "elif women_k_count > men_k_count:\n",
        "    print(\"У женщин таких имен больше\")\n",
        "else:\n",
        "    print(\"Количество имен, начинающихся на букву {}, одинаково\".format(k))\n",
        "\n",
        "# --------------\n",
        "# Пример вывода:\n",
        "#\n",
        "# Количество сотрудников = 3\n",
        "# Петрова Анна Алексеевна Ж 5\n",
        "# Семенов Николай Михайлович М 2\n",
        "# Михайлов Игорь Васильевич М 3\n",
        "# Cамый \"молодой\": Семенов Николай Михайлович\n",
        "# Cамый \"старый\": Петрова Анна Алексеевна\n",
        "# Введите букву начала имени = а\n",
        "# У женщин таких имен больше\n",
        "#\n",
        "# Количество сотрудников = 3\n",
        "# Петрова Анна Алексеевна Ж 5\n",
        "# Семенов Николай Михайлович М 2\n",
        "# Михайлов Игорь Васильевич М 3\n",
        "# Cамый \"молодой\": Семенов Николай Михайлович\n",
        "# Cамый \"старый\": Петрова Анна Алексеевна\n",
        "# Введите букву начала имени = и\n",
        "# У мужчин таких имен больше\n",
        "#\n",
        "# Количество сотрудников = 3\n",
        "# Петрова Анна Алексеевна Ж 5\n",
        "# Семенов Николай Михайлович М 2\n",
        "# Михайлов Алексей Васильевич М 3\n",
        "# Cамый \"молодой\": Семенов Николай Михайлович\n",
        "# Cамый \"старый\": Петрова Анна Алексеевна\n",
        "# Введите букву начала имени = а\n",
        "# Таких имен поровну у мужчин и женщин"
      ],
      "metadata": {
        "colab": {
          "base_uri": "https://localhost:8080/",
          "height": 332
        },
        "id": "yrNoiQAHKyX1",
        "outputId": "1772ee88-1d18-4663-ee8b-518478e66497"
      },
      "execution_count": 137,
      "outputs": [
        {
          "name": "stdout",
          "output_type": "stream",
          "text": [
            "Количество сотрудников = 3\n",
            "Петрова Анна Алексеевна Ж 5\n",
            "Семенов Николай Михайлович М 2\n",
            "Михайлов Игорь Васильевич М 3\n",
            "Самый 'молодой': Семенов Николай Михайлович\n",
            "Самый 'старый': Петрова Анна Алексеевна\n",
            "Введите букву начала имени = а\n"
          ]
        },
        {
          "output_type": "error",
          "ename": "TypeError",
          "evalue": "'int' object is not callable",
          "traceback": [
            "\u001b[0;31m---------------------------------------------------------------------------\u001b[0m",
            "\u001b[0;31mTypeError\u001b[0m                                 Traceback (most recent call last)",
            "\u001b[0;32m<ipython-input-137-0874021c5fd1>\u001b[0m in \u001b[0;36m<cell line: 0>\u001b[0;34m()\u001b[0m\n\u001b[1;32m     35\u001b[0m \u001b[0mk\u001b[0m \u001b[0;34m=\u001b[0m \u001b[0minput\u001b[0m\u001b[0;34m(\u001b[0m\u001b[0;34m\"Введите букву начала имени = \"\u001b[0m\u001b[0;34m)\u001b[0m\u001b[0;34m\u001b[0m\u001b[0;34m\u001b[0m\u001b[0m\n\u001b[1;32m     36\u001b[0m \u001b[0;34m\u001b[0m\u001b[0m\n\u001b[0;32m---> 37\u001b[0;31m \u001b[0mmen_k_count\u001b[0m \u001b[0;34m=\u001b[0m \u001b[0msum\u001b[0m\u001b[0;34m(\u001b[0m\u001b[0;36m1\u001b[0m \u001b[0;32mfor\u001b[0m \u001b[0memployee\u001b[0m \u001b[0;32min\u001b[0m \u001b[0mmen\u001b[0m \u001b[0;32mif\u001b[0m \u001b[0memployee\u001b[0m\u001b[0;34m[\u001b[0m\u001b[0;36m1\u001b[0m\u001b[0;34m]\u001b[0m\u001b[0;34m[\u001b[0m\u001b[0;36m0\u001b[0m\u001b[0;34m]\u001b[0m\u001b[0;34m.\u001b[0m\u001b[0mlower\u001b[0m\u001b[0;34m(\u001b[0m\u001b[0;34m)\u001b[0m \u001b[0;34m==\u001b[0m \u001b[0mk\u001b[0m\u001b[0;34m.\u001b[0m\u001b[0mlower\u001b[0m\u001b[0;34m(\u001b[0m\u001b[0;34m)\u001b[0m\u001b[0;34m)\u001b[0m\u001b[0;34m\u001b[0m\u001b[0;34m\u001b[0m\u001b[0m\n\u001b[0m\u001b[1;32m     38\u001b[0m \u001b[0mwomen_k_count\u001b[0m \u001b[0;34m=\u001b[0m \u001b[0msum\u001b[0m\u001b[0;34m(\u001b[0m\u001b[0;36m1\u001b[0m \u001b[0;32mfor\u001b[0m \u001b[0memployee\u001b[0m \u001b[0;32min\u001b[0m \u001b[0mwomen\u001b[0m \u001b[0;32mif\u001b[0m \u001b[0memployee\u001b[0m\u001b[0;34m[\u001b[0m\u001b[0;36m1\u001b[0m\u001b[0;34m]\u001b[0m\u001b[0;34m[\u001b[0m\u001b[0;36m0\u001b[0m\u001b[0;34m]\u001b[0m\u001b[0;34m.\u001b[0m\u001b[0mlower\u001b[0m\u001b[0;34m(\u001b[0m\u001b[0;34m)\u001b[0m \u001b[0;34m==\u001b[0m \u001b[0mk\u001b[0m\u001b[0;34m.\u001b[0m\u001b[0mlower\u001b[0m\u001b[0;34m(\u001b[0m\u001b[0;34m)\u001b[0m\u001b[0;34m)\u001b[0m\u001b[0;34m\u001b[0m\u001b[0;34m\u001b[0m\u001b[0m\n\u001b[1;32m     39\u001b[0m \u001b[0;34m\u001b[0m\u001b[0m\n",
            "\u001b[0;31mTypeError\u001b[0m: 'int' object is not callable"
          ]
        }
      ]
    },
    {
      "cell_type": "code",
      "source": [
        "\n",
        "# Задание task_02_34.\n",
        "#\n",
        "# Выполнил: Фамилия И.О.\n",
        "# Группа: !!!\n",
        "\n",
        "\n",
        "\n",
        "# 1. Заполнение списка\n",
        "\n",
        "# Используйте данный список для собственных тестов,\n",
        "# чтобы избежать постоянного ввода значений\n",
        "# Перед автоматической проверкой удалите его\n",
        "# и используйте ввод с клавиатуры\n",
        "# deposits = [\n",
        "#    {\"name\": \"Банк_1\", \"initial_sum\": 50000, \"rate\": 5.2},\n",
        "#    {\"name\": \"Банк_2\", \"initial_sum\": 20000, \"rate\": 3.7},\n",
        "#    {\"name\": \"Банк_3\", \"initial_sum\": 45000, \"rate\": 6.8},\n",
        "# ]\n",
        "\n",
        "n = # Удалите комментарий и допишите код\n",
        "\n",
        "deposits = []\n",
        "# Удалите комментарий и допишите код\n",
        "\n",
        "# 2. Самый доступный банк (с наименьшей первоначальной суммой)\n",
        "\n",
        "# Удалите комментарий и допишите код\n",
        "\n",
        "# 3. Самый выгодный банк\n",
        "#    прибыль = сумма * процент / 100\n",
        "\n",
        "# Удалите комментарий и допишите код\n",
        "\n",
        "# --------------\n",
        "# Пример вывода:\n",
        "#\n",
        "# Количество банков = 3\n",
        "# Банк_1 50000 5.2\n",
        "# Банк_2 20000 3.7\n",
        "# Банк_3 45000 6.8\n",
        "# Самый доступный банк: Банк_2, первоначальная сумма: 20000.00 руб.\n",
        "# Самый выгодный банк: Банк_3, прибыль: 3060.00 руб."
      ],
      "metadata": {
        "id": "bqmTCU6WvfJ0"
      },
      "execution_count": null,
      "outputs": []
    }
  ]
}